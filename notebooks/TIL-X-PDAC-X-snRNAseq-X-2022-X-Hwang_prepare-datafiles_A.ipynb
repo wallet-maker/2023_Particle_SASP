{
 "cells": [
  {
   "cell_type": "code",
   "execution_count": 1,
   "metadata": {},
   "outputs": [],
   "source": [
    "import scipy\n",
    "from scipy.io import mmread\n",
    "import scanpy as sc\n",
    "import anndata\n",
    "import pandas as pd\n",
    "import numpy as np"
   ]
  },
  {
   "cell_type": "code",
   "execution_count": 2,
   "metadata": {},
   "outputs": [],
   "source": [
    "def calculate_optimal_PC(adata, min_PC = 50, min_var=25, n_comps=100, use_hv=None):\n",
    "    'select number of PCs based on min_PC and min_var threshold'\n",
    "    import matplotlib.pyplot as plt\n",
    "    import scanpy as sc\n",
    "    from kneed import KneeLocator\n",
    "\n",
    "    #calculate PCs\n",
    "    sc.tl.pca(adata, n_comps=100, zero_center=True, svd_solver='arpack', random_state=0, return_info=False, use_highly_variable=use_hv, dtype='float32', copy=False, chunked=False, chunk_size=None)\n",
    "    sc.pl.pca_variance_ratio(adata, log=False)\n",
    "\n",
    "    #calculate number of PCs\n",
    "\n",
    "    a = adata.copy()# PCs kneepoint\n",
    "    x = [i for i in range(len(a.uns[\"pca\"][\"variance_ratio\"]))]\n",
    "    y = list(a.uns[\"pca\"][\"variance_ratio\"])\n",
    "    kneedle = KneeLocator(x,\n",
    "                      y,\n",
    "                      S=1,\n",
    "                      curve='convex',\n",
    "                      direction='decreasing',\n",
    "                      online=False)\n",
    "    kn_pc = round(kneedle.knee, 3)\n",
    "    kneedle.plot_knee()\n",
    "    plt.show()\n",
    "    kneedle.plot_knee_normalized()\n",
    "    plt.show()\n",
    "    print(\"Kneepoint happens at PC:\", kn_pc)\n",
    "\n",
    "    exp_var = sum(adata.uns['pca']['variance_ratio'][:kn_pc])\n",
    "    exp_var_test_percent = exp_var*100\n",
    "    print(kn_pc,'PC explain',exp_var_test_percent, '% of variance')\n",
    "\n",
    "    #find number of PCs explaining at least min variance\n",
    "    tested_PC_number = kn_pc\n",
    "\n",
    "\n",
    "\n",
    "    tested_PC_number = 1\n",
    "    while exp_var_test_percent <min_var:\n",
    "        tested_PC_number = tested_PC_number+1\n",
    "        exp_var_test = sum(adata.uns['pca']['variance_ratio'][0:tested_PC_number])\n",
    "        exp_var_test_percent = exp_var_test*100\n",
    "        print(tested_PC_number, 'PC explain',exp_var_test_percent, '% of variance')\n",
    "        if tested_PC_number == n_comps:\n",
    "            break\n",
    "\n",
    "            \n",
    "    exp_var_test = sum(adata.uns['pca']['variance_ratio'][0:min_PC])\n",
    "    exp_var_test_percent = exp_var_test*100\n",
    "    if tested_PC_number <min_PC:\n",
    "        print('setting PCs to',min_PC)\n",
    "        print('variance of',min_PC,'is',exp_var_test_percent,'%')\n",
    "        tested_PC_number = min_PC\n",
    "        \n",
    "        \n",
    "    #define PC number for embeddings\n",
    "    number_of_PC_used = tested_PC_number\n",
    "    \n",
    "    exp_var_test = sum(adata.uns['pca']['variance_ratio'][0:tested_PC_number])\n",
    "    exp_var_test_percent = exp_var_test*100\n",
    "    print('number of PCs for clusterings/embeddings is:', number_of_PC_used)\n",
    "    print('these explain', exp_var_test_percent,'of variance') \n",
    "    \n",
    "    #recalculate PCs\n",
    "    sc.pp.pca(adata, n_comps=number_of_PC_used, zero_center=True, svd_solver='arpack', random_state=0, return_info=False, use_highly_variable=use_hv, dtype='float32', copy=False, chunked=False, chunk_size=None)\n",
    "    sc.pl.pca_variance_ratio(adata, log=False)\n",
    "    return number_of_PC_used"
   ]
  },
  {
   "cell_type": "code",
   "execution_count": 3,
   "metadata": {},
   "outputs": [],
   "source": [
    "DATA_DIR = '/home/wallet/Jupyter/TIL-X-PDAC-X-snRNAseq-X-2022-X-Hwang-X-10.1038_s41588-022-01134-8/matrix_files/'"
   ]
  },
  {
   "cell_type": "code",
   "execution_count": 4,
   "metadata": {},
   "outputs": [],
   "source": [
    "#naive data\n",
    "naive_matrix_path = DATA_DIR+'gene_sorted-naivedata_scp.mtx'\n",
    "naive_barcodes_path = DATA_DIR+'naivedata_scp.barcodes.csv'\n",
    "naive_genes_path = DATA_DIR+'naivedata_scp.genes.csv'\n",
    "naive_annotations_path = DATA_DIR + 'combinenaivedata-reprocessed-clean-detailed-annotations.tsv'\n",
    "naive_save_path = DATA_DIR + 'TIL-X-PDAC-X-snRNAseq-X-2022-X-Hwang-X-10.1038_s41588-022-01134-8-X-naive.h5ad'\n",
    "#treated data\n",
    "treated_matrix_path = DATA_DIR+'gene_sorted-treated_data_scp.mtx'\n",
    "treated_barcodes_path = DATA_DIR+'treateddata_scp.barcodes.csv'\n",
    "treated_genes_path = DATA_DIR+'treateddata_scp.genes.csv'\n",
    "treated_annotations_path = DATA_DIR + 'combinetreateddata-reprocessed-final-annotations.tsv'\n",
    "treated_save_path = DATA_DIR + 'TIL-X-PDAC-X-snRNAseq-X-2022-X-Hwang-X-10.1038_s41588-022-01134-8-X-treated.h5ad'\n",
    "\n",
    "\n",
    "adata_save_path = DATA_DIR + 'TIL-X-PDAC-X-snRNAseq-X-2022-X-Hwang-X-10.1038_s41588-022-01134-8-X-all_cells.h5ad'"
   ]
  },
  {
   "attachments": {},
   "cell_type": "markdown",
   "metadata": {},
   "source": [
    "# get naive data"
   ]
  },
  {
   "cell_type": "code",
   "execution_count": null,
   "metadata": {},
   "outputs": [],
   "source": [
    "naive_matrix = mmread(naive_matrix_path)\n",
    "naive_matrix"
   ]
  },
  {
   "cell_type": "code",
   "execution_count": null,
   "metadata": {},
   "outputs": [],
   "source": [
    "#get file encoding\n",
    "!file -bi {naive_barcodes_path}"
   ]
  },
  {
   "cell_type": "code",
   "execution_count": null,
   "metadata": {},
   "outputs": [],
   "source": [
    "naive_barcodes = pd.read_csv(naive_barcodes_path, compression='gzip')\n",
    "del naive_barcodes['Unnamed: 0']\n",
    "naive_barcodes.columns = ['barcodes']\n",
    "naive_barcodes = naive_barcodes.set_index('barcodes')\n",
    "naive_barcodes"
   ]
  },
  {
   "cell_type": "code",
   "execution_count": null,
   "metadata": {},
   "outputs": [],
   "source": [
    "naive_genes = pd.read_csv(naive_genes_path,header=None)\n",
    "naive_genes.columns= ['gene_names']\n",
    "naive_genes['gene_names'] = naive_genes['gene_names'].astype(str)\n",
    "naive_genes = naive_genes.set_index('gene_names')\n",
    "naive_genes"
   ]
  },
  {
   "cell_type": "code",
   "execution_count": null,
   "metadata": {},
   "outputs": [],
   "source": [
    "naive_annotations = pd.read_csv(naive_annotations_path,sep='\\t')\n",
    "naive_annotations = naive_annotations.drop(index=[0])\n",
    "naive_annotations = naive_annotations.set_index('NAME')\n",
    "naive_annotations"
   ]
  },
  {
   "cell_type": "code",
   "execution_count": null,
   "metadata": {},
   "outputs": [],
   "source": [
    "#transform to dicts\n",
    "naive_celltype_dict = naive_annotations['cell_subsets'].to_dict()\n",
    "naive_pid_dict = naive_annotations['pid'].to_dict()\n",
    "naive_ngenes_dict = naive_annotations['n_genes'].to_dict()"
   ]
  },
  {
   "cell_type": "code",
   "execution_count": null,
   "metadata": {},
   "outputs": [],
   "source": [
    "naive_matrix_dense = np.array(naive_matrix.T.todense())"
   ]
  },
  {
   "cell_type": "code",
   "execution_count": null,
   "metadata": {},
   "outputs": [],
   "source": [
    "from scipy.sparse import csr_matrix\n",
    "adata_naive = anndata.AnnData(X=csr_matrix(naive_matrix.T), obs=naive_barcodes, var=naive_genes, uns=None, obsm=None, varm=None, layers=None, raw=None, \n",
    "                              shape=None, filename=None, filemode=None, asview=False, obsp=None, varp=None, \n",
    "                              oidx=None, vidx=None)\n",
    "adata_naive"
   ]
  },
  {
   "cell_type": "code",
   "execution_count": null,
   "metadata": {},
   "outputs": [],
   "source": [
    "adata_naive.obs['cell_subsets'] = pd.Categorical(adata_naive.obs_names.map(naive_celltype_dict).astype(str))\n",
    "adata_naive.obs['pid'] = pd.Categorical(adata_naive.obs_names.map(naive_pid_dict).astype(str))\n",
    "adata_naive.obs['n_genes'] = adata_naive.obs_names.map(naive_ngenes_dict).astype(int)\n",
    "adata_naive.obs"
   ]
  },
  {
   "cell_type": "code",
   "execution_count": null,
   "metadata": {},
   "outputs": [],
   "source": [
    "adata_naive.X"
   ]
  },
  {
   "cell_type": "code",
   "execution_count": null,
   "metadata": {},
   "outputs": [],
   "source": [
    "set(adata_naive.obs['cell_subsets'])"
   ]
  },
  {
   "cell_type": "code",
   "execution_count": null,
   "metadata": {},
   "outputs": [],
   "source": [
    "naive_save_path"
   ]
  },
  {
   "cell_type": "code",
   "execution_count": null,
   "metadata": {},
   "outputs": [],
   "source": [
    "adata_naive.write(naive_save_path)\n",
    "print('saved to:',naive_save_path)"
   ]
  },
  {
   "attachments": {},
   "cell_type": "markdown",
   "metadata": {},
   "source": [
    "# get treated data"
   ]
  },
  {
   "cell_type": "code",
   "execution_count": null,
   "metadata": {},
   "outputs": [],
   "source": [
    "treated_matrix = mmread(treated_matrix_path)\n",
    "treated_matrix"
   ]
  },
  {
   "cell_type": "code",
   "execution_count": null,
   "metadata": {},
   "outputs": [],
   "source": [
    "treated_matrix = csr_matrix(treated_matrix.T)"
   ]
  },
  {
   "cell_type": "code",
   "execution_count": null,
   "metadata": {},
   "outputs": [],
   "source": [
    "#get file encoding\n",
    "!file -bi {treated_barcodes_path}"
   ]
  },
  {
   "cell_type": "code",
   "execution_count": null,
   "metadata": {},
   "outputs": [],
   "source": [
    "treated_barcodes"
   ]
  },
  {
   "cell_type": "code",
   "execution_count": null,
   "metadata": {},
   "outputs": [],
   "source": [
    "treated_barcodes = pd.read_csv(treated_barcodes_path,header=None)\n",
    "treated_barcodes.columns = ['barcodes']\n",
    "treated_barcodes = treated_barcodes.set_index('barcodes')\n",
    "treated_barcodes"
   ]
  },
  {
   "cell_type": "code",
   "execution_count": null,
   "metadata": {},
   "outputs": [],
   "source": [
    "treated_genes = pd.read_csv(treated_genes_path,header=None)\n",
    "treated_genes.columns = ['gene_names']\n",
    "treated_genes['gene_names'] = treated_genes['gene_names'].astype(str)\n",
    "treated_genes = treated_genes.set_index('gene_names')\n",
    "treated_genes"
   ]
  },
  {
   "cell_type": "code",
   "execution_count": null,
   "metadata": {},
   "outputs": [],
   "source": [
    "treated_annotations = pd.read_csv(treated_annotations_path,sep='\\t')\n",
    "treated_annotations = treated_annotations.drop(index=[0])\n",
    "treated_annotations = treated_annotations.set_index('NAME')\n",
    "treated_annotations"
   ]
  },
  {
   "cell_type": "code",
   "execution_count": null,
   "metadata": {},
   "outputs": [],
   "source": [
    "#transform to dicts\n",
    "treated_celltype_dict = treated_annotations['cell_subsets'].to_dict()\n",
    "treated_pid_dict = treated_annotations['pid'].to_dict()\n",
    "treated_ngenes_dict = treated_annotations['n_genes'].to_dict()"
   ]
  },
  {
   "cell_type": "code",
   "execution_count": null,
   "metadata": {},
   "outputs": [],
   "source": [
    "adata_treated = anndata.AnnData(X=treated_matrix, obs=treated_barcodes, var=treated_genes, uns=None, obsm=None, varm=None, layers=None, raw=None, \n",
    "                              shape=None, filename=None, filemode=None, asview=False, obsp=None, varp=None, \n",
    "                              oidx=None, vidx=None)\n",
    "adata_treated"
   ]
  },
  {
   "cell_type": "code",
   "execution_count": null,
   "metadata": {},
   "outputs": [],
   "source": [
    "adata_treated.obs['cell_subsets'] = pd.Categorical(adata_treated.obs_names.map(treated_celltype_dict).astype(str))\n",
    "adata_treated.obs['pid'] = pd.Categorical(adata_treated.obs_names.map(treated_pid_dict).astype(str))\n",
    "adata_treated.obs['n_genes'] = adata_treated.obs_names.map(treated_ngenes_dict).astype(int)\n",
    "adata_treated.obs"
   ]
  },
  {
   "cell_type": "code",
   "execution_count": null,
   "metadata": {},
   "outputs": [],
   "source": [
    "adata_treated.write(treated_save_path)\n",
    "print('saved to:',treated_save_path)"
   ]
  },
  {
   "cell_type": "code",
   "execution_count": null,
   "metadata": {},
   "outputs": [],
   "source": [
    "adata_treated.obs['treated'] = ['True']*len(adata_treated)\n",
    "adata_treated.obs['treated'] =pd.Categorical(adata_treated.obs['treated'])\n",
    "adata_naive.obs['treated'] = ['False']*len(adata_naive)\n",
    "adata_naive.obs['treated'] =pd.Categorical(adata_naive.obs['treated'])\n"
   ]
  },
  {
   "cell_type": "code",
   "execution_count": null,
   "metadata": {},
   "outputs": [],
   "source": [
    "#concatenate adatas\n",
    "adata = adata_naive.concatenate([adata_treated],join='outer', batch_key='treated', batch_categories=['untreated','treated'], \n",
    "                            uns_merge=None, index_unique='-', fill_value=None)"
   ]
  },
  {
   "cell_type": "code",
   "execution_count": null,
   "metadata": {},
   "outputs": [],
   "source": [
    "adata"
   ]
  },
  {
   "cell_type": "code",
   "execution_count": null,
   "metadata": {},
   "outputs": [],
   "source": [
    "adata.write(adata_save_path)\n",
    "print('saved to:',adata_save_path)"
   ]
  },
  {
   "attachments": {},
   "cell_type": "markdown",
   "metadata": {},
   "source": [
    "# explore data"
   ]
  },
  {
   "cell_type": "code",
   "execution_count": 5,
   "metadata": {},
   "outputs": [],
   "source": [
    "\n",
    "adata_path  = DATA_DIR + 'TIL-X-PDAC-X-snRNAseq-X-2022-X-Hwang-X-10.1038_s41588-022-01134-8-X-all_cells.h5ad'\n",
    "raw_adata_path = '/home/wallet/Jupyter/TIL-X-PDAC-X-snRNAseq-X-2022-X-Hwang-X-10.1038_s41588-022-01134-8/raw_adatas/GSE202051_totaldata-final-toshare.h5ad'\n",
    "adata_immune_save_path = DATA_DIR +  'TIL-X-PDAC-X-snRNAseq-X-2022-X-Hwang-X-10.1038_s41588-022-01134-8-X-all_cells.h5ad'"
   ]
  },
  {
   "cell_type": "code",
   "execution_count": 6,
   "metadata": {},
   "outputs": [
    {
     "data": {
      "text/plain": [
       "AnnData object with n_obs × n_vars = 224988 × 22164\n",
       "    obs: 'sampleid', 'n_genes', 'n_counts', 'scrublet_scores', 'pid', 'n_genes_by_counts', 'log1p_n_genes_by_counts', 'total_counts', 'log1p_total_counts', 'n_counts_sat', 'n_genes_sat', 'percent_mito', 'leiden', 'batch', 'Moffitt_basal', 'Moffitt_classical', 'Bailey_squamous', 'Bailey_progenitor', 'Collison_QM', 'Collison_classical', 'MALIGNANT CELLS', 'ACINAR', 'Alpha', 'Beta', 'Delta', 'Gamma', 'Episilon', 'ENDOCRINE', 'ENDOTHELIAL', 'Pan_Immune', 'AntigenPresentingCells', 'Monocytes_1', 'Monocytes_2', 'Macrophage', 'cDC1', 'cDC2', 'DC_activated', 'pDC', 'Mast', 'Eosinophils', 'Neutrophils', 'M0', 'M1', 'M2', 'Mast_Resting', 'Mast_activated', 'CD8_Tcells', 'CD4_Tcells', 'NK', 'CD8_gammadelta', 'CD8_exhausted', 'CD4_naive', 'CD4_memory_resting', 'CD4_memory_activated', 'CD4_follicular_helper', 'CD4_regulatory', 'NK_resting', 'NK_activated', 'B_cell', 'Plasma', 'Bcell_naive', 'Bcell_memory', 'IMMUNE', 'PanCAF', 'iCAF', 'myCAF', 'apCAF', 'CAF', 'Tuveson_iCAF', 'Tuveson_mCAF', 'Neuzillet_CAFa', 'Neuzillet_CAFb', 'Neuzillet_CAFc', 'Neuzillet_CAFd', 'Davidson_CAF1', 'Davidson_CAF2', 'Davidson_CAF3', 'Pan_Stellate', 'Quiescent_Stellate', 'Activated_Stellate', 'Immune_Stellate', 'FIBROBLASTS', 'PANCREATIC_SCHWANN_CELLS', 'ductal14', 'ductal2', 'ductal3', 'ductal4', 'DUCTAL', 'broad_celltypes', 'treatment_status', 'celltype_infercnv', 'celltypes', 'cnv_leiden', 'cnv_score', 'new_celltypes', 'Level 1 Annotation', 'Level 2 Annotation', 'Level 3 Annotation', 'new_treatment', 'response'\n",
       "    var: 'chromosome', 'start', 'end', 'ensg'\n",
       "    uns: 'Level 1 Annotation_colors', 'Level 2 Annotation_colors', 'Level 3 Annotation_colors', 'broad_celltypes_colors', 'cnv', 'cnv_leiden_colors', 'cnv_neighbors', 'leiden', 'new_celltypes_colors'\n",
       "    obsm: 'X_cnv', 'X_cnv_pca', 'X_cnv_umap', 'X_harmony', 'X_pca', 'X_umap'\n",
       "    layers: 'counts'\n",
       "    obsp: 'cnv_neighbors_connectivities', 'cnv_neighbors_distances'"
      ]
     },
     "execution_count": 6,
     "metadata": {},
     "output_type": "execute_result"
    }
   ],
   "source": [
    "adata = sc.read(raw_adata_path)\n",
    "adata"
   ]
  },
  {
   "cell_type": "code",
   "execution_count": 7,
   "metadata": {},
   "outputs": [
    {
     "data": {
      "text/plain": [
       "['Adipocyte',\n",
       " 'Cancer-associated fibroblast',\n",
       " 'Lymphoid',\n",
       " 'Vascular smooth muscle',\n",
       " 'Endocrine',\n",
       " 'Schwann',\n",
       " 'Epithelial (malignant)',\n",
       " 'Epithelial (non-malignant)',\n",
       " 'Endothelial',\n",
       " 'Pericyte',\n",
       " 'Intra-pancreatic neurons',\n",
       " 'Myeloid']"
      ]
     },
     "execution_count": 7,
     "metadata": {},
     "output_type": "execute_result"
    }
   ],
   "source": [
    "list(set(adata.obs['Level 1 Annotation']))[0:30]"
   ]
  },
  {
   "cell_type": "code",
   "execution_count": 8,
   "metadata": {},
   "outputs": [
    {
     "data": {
      "text/plain": [
       "['Delta',\n",
       " 'Gamma',\n",
       " 'B',\n",
       " 'myCAF',\n",
       " 'Natural killer',\n",
       " 'CAF',\n",
       " 'Intra-pancreatic neurons',\n",
       " 'Adipocyte',\n",
       " 'Hormone-negative neuroendocrine',\n",
       " 'Acinar',\n",
       " 'Beta',\n",
       " 'Schwann',\n",
       " 'Malignant',\n",
       " 'Alpha',\n",
       " 'Pericyte',\n",
       " 'Ductal (atypical)',\n",
       " 'Ductal',\n",
       " 'Lymphatic',\n",
       " 'Plasma',\n",
       " 'Vascular',\n",
       " 'CD8+ T',\n",
       " 'ADM',\n",
       " 'Vascular smooth muscle',\n",
       " 'Dendritic',\n",
       " 'Treg',\n",
       " 'Epsilon',\n",
       " 'CD4+ T',\n",
       " 'Mast',\n",
       " 'Macrophage',\n",
       " 'Neutrophil']"
      ]
     },
     "execution_count": 8,
     "metadata": {},
     "output_type": "execute_result"
    }
   ],
   "source": [
    "list(set(adata.obs['Level 2 Annotation']))[0:30]"
   ]
  },
  {
   "cell_type": "code",
   "execution_count": 9,
   "metadata": {},
   "outputs": [
    {
     "data": {
      "text/plain": [
       "['Delta',\n",
       " 'Gamma',\n",
       " 'B',\n",
       " 'Dendritic (activated)',\n",
       " 'myCAF',\n",
       " 'Natural killer',\n",
       " 'CAF',\n",
       " 'Intra-pancreatic neurons',\n",
       " 'CD8+ T (terminally dysfunctional)',\n",
       " 'Adipocyte',\n",
       " 'Hormone-negative neuroendocrine',\n",
       " 'CD8+ T (dysfunctional)',\n",
       " 'Acinar',\n",
       " 'Beta',\n",
       " 'Schwann',\n",
       " 'Dendritic (plasmacytoid)',\n",
       " 'Malignant',\n",
       " 'Alpha',\n",
       " 'Acinar (REG+)',\n",
       " 'Pericyte',\n",
       " 'Ductal (atypical)',\n",
       " 'Ductal',\n",
       " 'Lymphatic',\n",
       " 'CD8+ T (progenitor dysfunctional)',\n",
       " 'Plasma',\n",
       " 'Vascular',\n",
       " 'CD8+ T',\n",
       " 'ADM',\n",
       " 'Vascular smooth muscle',\n",
       " 'Dendritic (conventional type 2)']"
      ]
     },
     "execution_count": 9,
     "metadata": {},
     "output_type": "execute_result"
    }
   ],
   "source": [
    "list(set(adata.obs['Level 3 Annotation']))[0:30]"
   ]
  },
  {
   "cell_type": "code",
   "execution_count": 10,
   "metadata": {},
   "outputs": [
    {
     "data": {
      "text/plain": [
       "['Treg',\n",
       " 'Epsilon',\n",
       " 'CD4+ T',\n",
       " 'Mast',\n",
       " 'Dendritic (conventional type 1)',\n",
       " 'Treg (activated)',\n",
       " 'Macrophage',\n",
       " 'Neutrophil',\n",
       " 'Treg (quiescent)']"
      ]
     },
     "execution_count": 10,
     "metadata": {},
     "output_type": "execute_result"
    }
   ],
   "source": [
    "list(set(adata.obs['Level 3 Annotation']))[30:]"
   ]
  },
  {
   "cell_type": "code",
   "execution_count": 11,
   "metadata": {},
   "outputs": [
    {
     "data": {
      "text/plain": [
       "{'T1',\n",
       " 'T10',\n",
       " 'T11',\n",
       " 'T12',\n",
       " 'T13',\n",
       " 'T14',\n",
       " 'T15',\n",
       " 'T16',\n",
       " 'T17',\n",
       " 'T18',\n",
       " 'T19',\n",
       " 'T2',\n",
       " 'T20',\n",
       " 'T21',\n",
       " 'T22',\n",
       " 'T23',\n",
       " 'T24',\n",
       " 'T25',\n",
       " 'T3',\n",
       " 'T4',\n",
       " 'T5',\n",
       " 'T6',\n",
       " 'T7',\n",
       " 'T8',\n",
       " 'T9',\n",
       " 'U1',\n",
       " 'U10',\n",
       " 'U11',\n",
       " 'U12',\n",
       " 'U13',\n",
       " 'U14',\n",
       " 'U15',\n",
       " 'U16',\n",
       " 'U17',\n",
       " 'U18',\n",
       " 'U2',\n",
       " 'U3',\n",
       " 'U4',\n",
       " 'U5',\n",
       " 'U6',\n",
       " 'U7',\n",
       " 'U8',\n",
       " 'U9'}"
      ]
     },
     "execution_count": 11,
     "metadata": {},
     "output_type": "execute_result"
    }
   ],
   "source": [
    "set(adata.obs['pid'])"
   ]
  },
  {
   "cell_type": "code",
   "execution_count": 13,
   "metadata": {},
   "outputs": [],
   "source": [
    "import math\n",
    "def revert_normalization(adata,library_size,log_base=math.e,pseudocount=1,scale_factor=10000):\n",
    "    '''\n",
    "    revert log1p(library_size) normalization when log base, pseudocount, library size and scaling factor is known\n",
    "    adata: anndata, with normalized data in adata.X\n",
    "    library_size: str, key for library size per cell stored in adata.obs\n",
    "    log_base: float, base of logarithm with which data has been transformed\n",
    "    pseudocount: float, pseudocount added in log1p transformation\n",
    "    size_factor: float, sizing factor cell library sizes have been scaled to\n",
    "    '''\n",
    "    import numpy as np\n",
    "    import scanpy as sc\n",
    "    import scipy\n",
    "    if isinstance(adata.X,scipy.sparse.csr_matrix):\n",
    "        normalized = np.array(adata.X.todense())\n",
    "    else:\n",
    "        normalized = np.array(adata.X)\n",
    "    removed_log = np.power(log_base,normalized) - pseudocount\n",
    "    removed_scale = removed_log/scale_factor\n",
    "    original_libsize = removed_scale.T * list(adata.obs[library_size].astype(float))\n",
    "    original_libsize = original_libsize.T\n",
    "    return original_libsize\n",
    "\n"
   ]
  },
  {
   "cell_type": "code",
   "execution_count": 14,
   "metadata": {},
   "outputs": [
    {
     "data": {
      "text/plain": [
       "array([[0., 0., 0., ..., 0., 0., 0.],\n",
       "       [0., 0., 0., ..., 0., 0., 0.],\n",
       "       [0., 0., 0., ..., 0., 0., 0.],\n",
       "       ...,\n",
       "       [0., 0., 0., ..., 0., 0., 0.],\n",
       "       [0., 0., 0., ..., 0., 0., 0.],\n",
       "       [0., 0., 0., ..., 0., 0., 0.]])"
      ]
     },
     "execution_count": 14,
     "metadata": {},
     "output_type": "execute_result"
    }
   ],
   "source": [
    "X= revert_normalization(adata,'n_counts',log_base=2,pseudocount=1,scale_factor=10000)\n",
    "X"
   ]
  },
  {
   "cell_type": "code",
   "execution_count": 15,
   "metadata": {},
   "outputs": [
    {
     "data": {
      "text/plain": [
       "210.5999454855919"
      ]
     },
     "execution_count": 15,
     "metadata": {},
     "output_type": "execute_result"
    }
   ],
   "source": [
    "#did not go forward with reverting normalization because library sizes seem to be incorrect --> result is not an integer\n",
    "np.max(X)"
   ]
  }
 ],
 "metadata": {
  "kernelspec": {
   "display_name": "2023_cytopus",
   "language": "python",
   "name": "python3"
  },
  "language_info": {
   "codemirror_mode": {
    "name": "ipython",
    "version": 3
   },
   "file_extension": ".py",
   "mimetype": "text/x-python",
   "name": "python",
   "nbconvert_exporter": "python",
   "pygments_lexer": "ipython3",
   "version": "3.10.4"
  },
  "orig_nbformat": 4
 },
 "nbformat": 4,
 "nbformat_minor": 2
}
