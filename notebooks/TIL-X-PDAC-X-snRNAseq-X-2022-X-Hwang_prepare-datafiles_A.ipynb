{
 "cells": [
  {
   "cell_type": "code",
   "execution_count": 9,
   "metadata": {},
   "outputs": [],
   "source": [
    "import scipy\n",
    "from scipy.io import mmread\n",
    "import scanpy as sc\n",
    "import anndata\n",
    "import pandas as pd\n",
    "import numpy as np"
   ]
  },
  {
   "cell_type": "code",
   "execution_count": 21,
   "metadata": {},
   "outputs": [],
   "source": [
    "def calculate_optimal_PC(adata, min_PC = 50, min_var=25, n_comps=100, use_hv=None):\n",
    "    'select number of PCs based on min_PC and min_var threshold'\n",
    "    import matplotlib.pyplot as plt\n",
    "    import scanpy as sc\n",
    "    from kneed import KneeLocator\n",
    "\n",
    "    #calculate PCs\n",
    "    sc.tl.pca(adata, n_comps=100, zero_center=True, svd_solver='arpack', random_state=0, return_info=False, use_highly_variable=use_hv, dtype='float32', copy=False, chunked=False, chunk_size=None)\n",
    "    sc.pl.pca_variance_ratio(adata, log=False)\n",
    "\n",
    "    #calculate number of PCs\n",
    "\n",
    "    a = adata.copy()# PCs kneepoint\n",
    "    x = [i for i in range(len(a.uns[\"pca\"][\"variance_ratio\"]))]\n",
    "    y = list(a.uns[\"pca\"][\"variance_ratio\"])\n",
    "    kneedle = KneeLocator(x,\n",
    "                      y,\n",
    "                      S=1,\n",
    "                      curve='convex',\n",
    "                      direction='decreasing',\n",
    "                      online=False)\n",
    "    kn_pc = round(kneedle.knee, 3)\n",
    "    kneedle.plot_knee()\n",
    "    plt.show()\n",
    "    kneedle.plot_knee_normalized()\n",
    "    plt.show()\n",
    "    print(\"Kneepoint happens at PC:\", kn_pc)\n",
    "\n",
    "    exp_var = sum(adata.uns['pca']['variance_ratio'][:kn_pc])\n",
    "    exp_var_test_percent = exp_var*100\n",
    "    print(kn_pc,'PC explain',exp_var_test_percent, '% of variance')\n",
    "\n",
    "    #find number of PCs explaining at least min variance\n",
    "    tested_PC_number = kn_pc\n",
    "\n",
    "\n",
    "\n",
    "    tested_PC_number = 1\n",
    "    while exp_var_test_percent <min_var:\n",
    "        tested_PC_number = tested_PC_number+1\n",
    "        exp_var_test = sum(adata.uns['pca']['variance_ratio'][0:tested_PC_number])\n",
    "        exp_var_test_percent = exp_var_test*100\n",
    "        print(tested_PC_number, 'PC explain',exp_var_test_percent, '% of variance')\n",
    "        if tested_PC_number == n_comps:\n",
    "            break\n",
    "\n",
    "            \n",
    "    exp_var_test = sum(adata.uns['pca']['variance_ratio'][0:min_PC])\n",
    "    exp_var_test_percent = exp_var_test*100\n",
    "    if tested_PC_number <min_PC:\n",
    "        print('setting PCs to',min_PC)\n",
    "        print('variance of',min_PC,'is',exp_var_test_percent,'%')\n",
    "        tested_PC_number = min_PC\n",
    "        \n",
    "        \n",
    "    #define PC number for embeddings\n",
    "    number_of_PC_used = tested_PC_number\n",
    "    \n",
    "    exp_var_test = sum(adata.uns['pca']['variance_ratio'][0:tested_PC_number])\n",
    "    exp_var_test_percent = exp_var_test*100\n",
    "    print('number of PCs for clusterings/embeddings is:', number_of_PC_used)\n",
    "    print('these explain', exp_var_test_percent,'of variance') \n",
    "    \n",
    "    #recalculate PCs\n",
    "    sc.pp.pca(adata, n_comps=number_of_PC_used, zero_center=True, svd_solver='arpack', random_state=0, return_info=False, use_highly_variable=use_hv, dtype='float32', copy=False, chunked=False, chunk_size=None)\n",
    "    sc.pl.pca_variance_ratio(adata, log=False)\n",
    "    return number_of_PC_used"
   ]
  },
  {
   "cell_type": "code",
   "execution_count": null,
   "metadata": {},
   "outputs": [],
   "source": []
  },
  {
   "cell_type": "code",
   "execution_count": 6,
   "metadata": {},
   "outputs": [],
   "source": [
    "DATA_DIR = '/home/wallet/Jupyter/TIL-X-PDAC-X-snRNAseq-X-2022-X-Hwang-X-10.1038_s41588-022-01134-8/matrix_files/'"
   ]
  },
  {
   "cell_type": "code",
   "execution_count": 65,
   "metadata": {},
   "outputs": [],
   "source": [
    "#naive data\n",
    "naive_matrix_path = DATA_DIR+'gene_sorted-naivedata_scp.mtx'\n",
    "naive_barcodes_path = DATA_DIR+'naivedata_scp.barcodes.csv'\n",
    "naive_genes_path = DATA_DIR+'naivedata_scp.genes.csv'\n",
    "naive_annotations_path = DATA_DIR + 'combinenaivedata-reprocessed-clean-detailed-annotations.tsv'\n",
    "naive_save_path = DATA_DIR + 'TIL-X-PDAC-X-snRNAseq-X-2022-X-Hwang-X-10.1038_s41588-022-01134-8-X-naive.h5ad'\n",
    "#treated data\n",
    "treated_matrix_path = DATA_DIR+'gene_sorted-treated_data_scp.mtx'\n",
    "treated_barcodes_path = DATA_DIR+'treateddata_scp.barcodes.csv'\n",
    "treated_genes_path = DATA_DIR+'treateddata_scp.genes.csv'\n",
    "treated_annotations_path = DATA_DIR + 'combinetreateddata-reprocessed-final-annotations.tsv'\n",
    "treated_save_path = DATA_DIR + 'TIL-X-PDAC-X-snRNAseq-X-2022-X-Hwang-X-10.1038_s41588-022-01134-8-X-treated.h5ad'\n",
    "\n",
    "\n",
    "adata_save_path = DATA_DIR + 'TIL-X-PDAC-X-snRNAseq-X-2022-X-Hwang-X-10.1038_s41588-022-01134-8-X-all_cells.h5ad'"
   ]
  },
  {
   "attachments": {},
   "cell_type": "markdown",
   "metadata": {},
   "source": [
    "# get naive data"
   ]
  },
  {
   "cell_type": "code",
   "execution_count": 4,
   "metadata": {},
   "outputs": [
    {
     "data": {
      "text/plain": [
       "<22164x88031 sparse matrix of type '<class 'numpy.float64'>'\n",
       "\twith 151832488 stored elements in COOrdinate format>"
      ]
     },
     "execution_count": 4,
     "metadata": {},
     "output_type": "execute_result"
    }
   ],
   "source": [
    "naive_matrix = mmread(naive_matrix_path)\n",
    "naive_matrix"
   ]
  },
  {
   "cell_type": "code",
   "execution_count": 5,
   "metadata": {},
   "outputs": [
    {
     "name": "stdout",
     "output_type": "stream",
     "text": [
      "application/gzip; charset=binary\n"
     ]
    }
   ],
   "source": [
    "#get file encoding\n",
    "!file -bi {naive_barcodes_path}"
   ]
  },
  {
   "cell_type": "code",
   "execution_count": 6,
   "metadata": {},
   "outputs": [
    {
     "data": {
      "text/html": [
       "<div>\n",
       "<style scoped>\n",
       "    .dataframe tbody tr th:only-of-type {\n",
       "        vertical-align: middle;\n",
       "    }\n",
       "\n",
       "    .dataframe tbody tr th {\n",
       "        vertical-align: top;\n",
       "    }\n",
       "\n",
       "    .dataframe thead th {\n",
       "        text-align: right;\n",
       "    }\n",
       "</style>\n",
       "<table border=\"1\" class=\"dataframe\">\n",
       "  <thead>\n",
       "    <tr style=\"text-align: right;\">\n",
       "      <th></th>\n",
       "    </tr>\n",
       "    <tr>\n",
       "      <th>barcodes</th>\n",
       "    </tr>\n",
       "  </thead>\n",
       "  <tbody>\n",
       "    <tr>\n",
       "      <th>AAACCTGTCTGGTTCC-1-0</th>\n",
       "    </tr>\n",
       "    <tr>\n",
       "      <th>AAACGGGTCCTTTCTC-1-0</th>\n",
       "    </tr>\n",
       "    <tr>\n",
       "      <th>AAACGGGTCTAACCGA-1-0</th>\n",
       "    </tr>\n",
       "    <tr>\n",
       "      <th>AAAGATGCAATGGACG-1-0</th>\n",
       "    </tr>\n",
       "    <tr>\n",
       "      <th>AAAGATGCACGGCTAC-1-0</th>\n",
       "    </tr>\n",
       "    <tr>\n",
       "      <th>...</th>\n",
       "    </tr>\n",
       "    <tr>\n",
       "      <th>TTTGGTTCATGTGACT-1-14</th>\n",
       "    </tr>\n",
       "    <tr>\n",
       "      <th>TTTGGTTGTGAGACCA-1-14</th>\n",
       "    </tr>\n",
       "    <tr>\n",
       "      <th>TTTGGTTTCCAGCCTT-1-14</th>\n",
       "    </tr>\n",
       "    <tr>\n",
       "      <th>TTTGTTGAGCGCCCAT-1-14</th>\n",
       "    </tr>\n",
       "    <tr>\n",
       "      <th>TTTGTTGAGTGCACAG-1-14</th>\n",
       "    </tr>\n",
       "  </tbody>\n",
       "</table>\n",
       "<p>88031 rows × 0 columns</p>\n",
       "</div>"
      ],
      "text/plain": [
       "Empty DataFrame\n",
       "Columns: []\n",
       "Index: [AAACCTGTCTGGTTCC-1-0, AAACGGGTCCTTTCTC-1-0, AAACGGGTCTAACCGA-1-0, AAAGATGCAATGGACG-1-0, AAAGATGCACGGCTAC-1-0, AAAGATGTCGTTGACA-1-0, AAAGCAAAGGTTACCT-1-0, AAAGCAACATCCCACT-1-0, AAAGCAAGTCCAACTA-1-0, AAAGCAATCAGCAACT-1-0, AAAGTAGAGTCTTGCA-1-0, AAAGTAGGTAAATGAC-1-0, AAAGTAGGTTGCTCCT-1-0, AAAGTAGTCGTATCAG-1-0, AAATGCCAGACAAGCC-1-0, AAATGCCAGTGGTAAT-1-0, AAATGCCTCCAACCAA-1-0, AACACGTTCAGAAATG-1-0, AACCATGCAAGGTTTC-1-0, AACCATGCAGCTATTG-1-0, AACCATGCATGTTGAC-1-0, AACCATGTCAGTGCAT-1-0, AACCGCGAGGTCATCT-1-0, AACCGCGAGTGGCACA-1-0, AACCGCGCAAGTAGTA-1-0, AACCGCGCACGGTTTA-1-0, AACCGCGGTCAGAATA-1-0, AACCGCGGTCCGTCAG-1-0, AACCGCGGTGGTAACG-1-0, AACCGCGGTTACAGAA-1-0, AACCGCGGTTATGCGT-1-0, AACCGCGTCATGTCTT-1-0, AACCGCGTCTTTACGT-1-0, AACGTTGCATCGGTTA-1-0, AACGTTGGTGTGACGA-1-0, AACGTTGGTTTAAGCC-1-0, AACGTTGTCCTTTCGG-1-0, AACTCAGAGATGAGAG-1-0, AACTCAGAGGGTTCCC-1-0, AACTCAGCAACACGCC-1-0, AACTCAGCACTGTTAG-1-0, AACTCAGCATACGCTA-1-0, AACTCAGGTCCAACTA-1-0, AACTCAGGTTATCGGT-1-0, AACTCCCCAGACAAGC-1-0, AACTCCCGTGTCTGAT-1-0, AACTCCCGTTGTCGCG-1-0, AACTCCCTCAGCTCGG-1-0, AACTCCCTCCGCGGTA-1-0, AACTCTTAGCCGGTAA-1-0, AACTCTTTCCGCGGTA-1-0, AACTCTTTCTGGTATG-1-0, AACTGGTAGCTCAACT-1-0, AACTGGTCATGGTCAT-1-0, AACTGGTGTATTCGTG-1-0, AACTGGTTCAGATAAG-1-0, AACTGGTTCATTATCC-1-0, AACTGGTTCCAACCAA-1-0, AACTTTCAGGCGACAT-1-0, AACTTTCAGTACGCGA-1-0, AACTTTCAGTGTTAGA-1-0, AACTTTCGTGCACCAC-1-0, AACTTTCGTTATCGGT-1-0, AACTTTCTCAACCAAC-1-0, AACTTTCTCGAACTGT-1-0, AAGACCTAGCAGGCTA-1-0, AAGACCTAGTCAATAG-1-0, AAGACCTAGTCGATAA-1-0, AAGACCTCAACTGGCC-1-0, AAGACCTCAAGGCTCC-1-0, AAGACCTCACGGCGTT-1-0, AAGCCGCAGACAAGCC-1-0, AAGCCGCCAATGCCAT-1-0, AAGCCGCCATCGGTTA-1-0, AAGCCGCTCCATGAAC-1-0, AAGGAGCCAAGGACAC-1-0, AAGGAGCCAGCGTTCG-1-0, AAGGAGCCATCGGGTC-1-0, AAGGAGCGTCTAAAGA-1-0, AAGGCAGAGAGTAATC-1-0, AAGGCAGCAATAGAGT-1-0, AAGGCAGCACGACGAA-1-0, AAGGCAGCACTGCCAG-1-0, AAGGCAGGTACATGTC-1-0, AAGGCAGGTCAACATC-1-0, AAGGCAGGTCTCTTTA-1-0, AAGGCAGGTGCAACGA-1-0, AAGGCAGTCCGCGGTA-1-0, AAGGCAGTCGCCTGAG-1-0, AAGGTTCCAGAGCCAA-1-0, AAGTCTGCACGTGAGA-1-0, AAGTCTGCATGGTCAT-1-0, AAGTCTGCATTCCTGC-1-0, AAGTCTGTCGGAAATA-1-0, AATCCAGCATGAACCT-1-0, AATCCAGTCTTCAACT-1-0, AATCGGTAGGCGCTCT-1-0, AATCGGTCAAGAAGAG-1-0, AATCGGTCAGTCGATT-1-0, ACACCAAGTCGCTTTC-1-0, ...]\n",
       "\n",
       "[88031 rows x 0 columns]"
      ]
     },
     "execution_count": 6,
     "metadata": {},
     "output_type": "execute_result"
    }
   ],
   "source": [
    "naive_barcodes = pd.read_csv(naive_barcodes_path, compression='gzip')\n",
    "del naive_barcodes['Unnamed: 0']\n",
    "naive_barcodes.columns = ['barcodes']\n",
    "naive_barcodes = naive_barcodes.set_index('barcodes')\n",
    "naive_barcodes"
   ]
  },
  {
   "cell_type": "code",
   "execution_count": 7,
   "metadata": {},
   "outputs": [
    {
     "data": {
      "text/html": [
       "<div>\n",
       "<style scoped>\n",
       "    .dataframe tbody tr th:only-of-type {\n",
       "        vertical-align: middle;\n",
       "    }\n",
       "\n",
       "    .dataframe tbody tr th {\n",
       "        vertical-align: top;\n",
       "    }\n",
       "\n",
       "    .dataframe thead th {\n",
       "        text-align: right;\n",
       "    }\n",
       "</style>\n",
       "<table border=\"1\" class=\"dataframe\">\n",
       "  <thead>\n",
       "    <tr style=\"text-align: right;\">\n",
       "      <th></th>\n",
       "    </tr>\n",
       "    <tr>\n",
       "      <th>gene_names</th>\n",
       "    </tr>\n",
       "  </thead>\n",
       "  <tbody>\n",
       "    <tr>\n",
       "      <th>FAM138A</th>\n",
       "    </tr>\n",
       "    <tr>\n",
       "      <th>OR4F5</th>\n",
       "    </tr>\n",
       "    <tr>\n",
       "      <th>OR4F29</th>\n",
       "    </tr>\n",
       "    <tr>\n",
       "      <th>OR4F16</th>\n",
       "    </tr>\n",
       "    <tr>\n",
       "      <th>FAM87B</th>\n",
       "    </tr>\n",
       "    <tr>\n",
       "      <th>...</th>\n",
       "    </tr>\n",
       "    <tr>\n",
       "      <th>AC004556.1</th>\n",
       "    </tr>\n",
       "    <tr>\n",
       "      <th>AC233755.2</th>\n",
       "    </tr>\n",
       "    <tr>\n",
       "      <th>AC233755.1</th>\n",
       "    </tr>\n",
       "    <tr>\n",
       "      <th>AC240274.1</th>\n",
       "    </tr>\n",
       "    <tr>\n",
       "      <th>AC213203.1</th>\n",
       "    </tr>\n",
       "  </tbody>\n",
       "</table>\n",
       "<p>22164 rows × 0 columns</p>\n",
       "</div>"
      ],
      "text/plain": [
       "Empty DataFrame\n",
       "Columns: []\n",
       "Index: [FAM138A, OR4F5, OR4F29, OR4F16, FAM87B, LINC00115, FAM41C, SAMD11, NOC2L, KLHL17, PLEKHN1, PERM1, HES4, ISG15, AGRN, RNF223, C1orf159, LINC01342, TTLL10-AS1, TTLL10, TNFRSF18, TNFRSF4, SDF4, B3GALT6, UBE2J2, SCNN1D, ACAP3, PUSL1, CPTP, TAS1R3, DVL1, MXRA8, AURKAIP1, CCNL2, MRPL20, ANKRD65, TMEM88B, VWA1, ATAD3C, ATAD3B, ATAD3A, TMEM240, SSU72, AL645728.1, MIB2, MMP23B, CDK11B, SLC35E2B, CDK11A, NADK, GNB1, CALML6, TMEM52, CFAP74, GABRD, PRKCZ, FAAP20, SKI, MORN1, RER1, PEX10, PLCH2, PANK4, HES5, TNFRSF14, FAM213B, MMEL1, TTC34, ACTRT2, LINC00982, PRDM16, ARHGEF16, MEGF6, TPRG1L, WRAP73, TP73, CCDC27, SMIM1, LRRC47, CEP104, DFFB, C1orf174, LINC01134, LINC01346, AJAP1, NPHP4, KCNAB2, CHD5, RPL22, RNF207, ICMT, LINC00337, HES3, GPR153, ACOT7, HES2, ESPN, TNFRSF25, PLEKHG5, NOL9, ...]\n",
       "\n",
       "[22164 rows x 0 columns]"
      ]
     },
     "execution_count": 7,
     "metadata": {},
     "output_type": "execute_result"
    }
   ],
   "source": [
    "naive_genes = pd.read_csv(naive_genes_path,header=None)\n",
    "naive_genes.columns= ['gene_names']\n",
    "naive_genes['gene_names'] = naive_genes['gene_names'].astype(str)\n",
    "naive_genes = naive_genes.set_index('gene_names')\n",
    "naive_genes"
   ]
  },
  {
   "cell_type": "code",
   "execution_count": 8,
   "metadata": {},
   "outputs": [
    {
     "data": {
      "text/html": [
       "<div>\n",
       "<style scoped>\n",
       "    .dataframe tbody tr th:only-of-type {\n",
       "        vertical-align: middle;\n",
       "    }\n",
       "\n",
       "    .dataframe tbody tr th {\n",
       "        vertical-align: top;\n",
       "    }\n",
       "\n",
       "    .dataframe thead th {\n",
       "        text-align: right;\n",
       "    }\n",
       "</style>\n",
       "<table border=\"1\" class=\"dataframe\">\n",
       "  <thead>\n",
       "    <tr style=\"text-align: right;\">\n",
       "      <th></th>\n",
       "      <th>cell_subsets</th>\n",
       "      <th>pid</th>\n",
       "      <th>n_genes</th>\n",
       "    </tr>\n",
       "    <tr>\n",
       "      <th>NAME</th>\n",
       "      <th></th>\n",
       "      <th></th>\n",
       "      <th></th>\n",
       "    </tr>\n",
       "  </thead>\n",
       "  <tbody>\n",
       "    <tr>\n",
       "      <th>AAACCTGTCTGGTTCC-1-0</th>\n",
       "      <td>Tumor</td>\n",
       "      <td>003_10x</td>\n",
       "      <td>767</td>\n",
       "    </tr>\n",
       "    <tr>\n",
       "      <th>AAACGGGTCCTTTCTC-1-0</th>\n",
       "      <td>Tumor</td>\n",
       "      <td>003_10x</td>\n",
       "      <td>603</td>\n",
       "    </tr>\n",
       "    <tr>\n",
       "      <th>AAACGGGTCTAACCGA-1-0</th>\n",
       "      <td>Fibroblast</td>\n",
       "      <td>003_10x</td>\n",
       "      <td>910</td>\n",
       "    </tr>\n",
       "    <tr>\n",
       "      <th>AAAGATGCAATGGACG-1-0</th>\n",
       "      <td>Tumor</td>\n",
       "      <td>003_10x</td>\n",
       "      <td>893</td>\n",
       "    </tr>\n",
       "    <tr>\n",
       "      <th>AAAGATGCACGGCTAC-1-0</th>\n",
       "      <td>Endothelial</td>\n",
       "      <td>003_10x</td>\n",
       "      <td>765</td>\n",
       "    </tr>\n",
       "    <tr>\n",
       "      <th>...</th>\n",
       "      <td>...</td>\n",
       "      <td>...</td>\n",
       "      <td>...</td>\n",
       "    </tr>\n",
       "    <tr>\n",
       "      <th>TTTGGTTCATGTGACT-1-14</th>\n",
       "      <td>Endothelial</td>\n",
       "      <td>2664_10x</td>\n",
       "      <td>1037</td>\n",
       "    </tr>\n",
       "    <tr>\n",
       "      <th>TTTGGTTGTGAGACCA-1-14</th>\n",
       "      <td>Tumor</td>\n",
       "      <td>2664_10x</td>\n",
       "      <td>1839</td>\n",
       "    </tr>\n",
       "    <tr>\n",
       "      <th>TTTGGTTTCCAGCCTT-1-14</th>\n",
       "      <td>Tumor</td>\n",
       "      <td>2664_10x</td>\n",
       "      <td>1793</td>\n",
       "    </tr>\n",
       "    <tr>\n",
       "      <th>TTTGTTGAGCGCCCAT-1-14</th>\n",
       "      <td>Tumor</td>\n",
       "      <td>2664_10x</td>\n",
       "      <td>4395</td>\n",
       "    </tr>\n",
       "    <tr>\n",
       "      <th>TTTGTTGAGTGCACAG-1-14</th>\n",
       "      <td>Tumor</td>\n",
       "      <td>2664_10x</td>\n",
       "      <td>2216</td>\n",
       "    </tr>\n",
       "  </tbody>\n",
       "</table>\n",
       "<p>88031 rows × 3 columns</p>\n",
       "</div>"
      ],
      "text/plain": [
       "                      cell_subsets       pid n_genes\n",
       "NAME                                                \n",
       "AAACCTGTCTGGTTCC-1-0         Tumor   003_10x     767\n",
       "AAACGGGTCCTTTCTC-1-0         Tumor   003_10x     603\n",
       "AAACGGGTCTAACCGA-1-0    Fibroblast   003_10x     910\n",
       "AAAGATGCAATGGACG-1-0         Tumor   003_10x     893\n",
       "AAAGATGCACGGCTAC-1-0   Endothelial   003_10x     765\n",
       "...                            ...       ...     ...\n",
       "TTTGGTTCATGTGACT-1-14  Endothelial  2664_10x    1037\n",
       "TTTGGTTGTGAGACCA-1-14        Tumor  2664_10x    1839\n",
       "TTTGGTTTCCAGCCTT-1-14        Tumor  2664_10x    1793\n",
       "TTTGTTGAGCGCCCAT-1-14        Tumor  2664_10x    4395\n",
       "TTTGTTGAGTGCACAG-1-14        Tumor  2664_10x    2216\n",
       "\n",
       "[88031 rows x 3 columns]"
      ]
     },
     "execution_count": 8,
     "metadata": {},
     "output_type": "execute_result"
    }
   ],
   "source": [
    "naive_annotations = pd.read_csv(naive_annotations_path,sep='\\t')\n",
    "naive_annotations = naive_annotations.drop(index=[0])\n",
    "naive_annotations = naive_annotations.set_index('NAME')\n",
    "naive_annotations"
   ]
  },
  {
   "cell_type": "code",
   "execution_count": 9,
   "metadata": {},
   "outputs": [],
   "source": [
    "#transform to dicts\n",
    "naive_celltype_dict = naive_annotations['cell_subsets'].to_dict()\n",
    "naive_pid_dict = naive_annotations['pid'].to_dict()\n",
    "naive_ngenes_dict = naive_annotations['n_genes'].to_dict()"
   ]
  },
  {
   "cell_type": "code",
   "execution_count": 19,
   "metadata": {},
   "outputs": [],
   "source": [
    "naive_matrix_dense = np.array(naive_matrix.T.todense())"
   ]
  },
  {
   "cell_type": "code",
   "execution_count": 26,
   "metadata": {},
   "outputs": [
    {
     "data": {
      "text/plain": [
       "AnnData object with n_obs × n_vars = 88031 × 22164"
      ]
     },
     "execution_count": 26,
     "metadata": {},
     "output_type": "execute_result"
    }
   ],
   "source": [
    "from scipy.sparse import csr_matrix\n",
    "adata_naive = anndata.AnnData(X=csr_matrix(naive_matrix.T), obs=naive_barcodes, var=naive_genes, uns=None, obsm=None, varm=None, layers=None, raw=None, \n",
    "                              shape=None, filename=None, filemode=None, asview=False, obsp=None, varp=None, \n",
    "                              oidx=None, vidx=None)\n",
    "adata_naive"
   ]
  },
  {
   "cell_type": "code",
   "execution_count": 27,
   "metadata": {},
   "outputs": [
    {
     "data": {
      "text/html": [
       "<div>\n",
       "<style scoped>\n",
       "    .dataframe tbody tr th:only-of-type {\n",
       "        vertical-align: middle;\n",
       "    }\n",
       "\n",
       "    .dataframe tbody tr th {\n",
       "        vertical-align: top;\n",
       "    }\n",
       "\n",
       "    .dataframe thead th {\n",
       "        text-align: right;\n",
       "    }\n",
       "</style>\n",
       "<table border=\"1\" class=\"dataframe\">\n",
       "  <thead>\n",
       "    <tr style=\"text-align: right;\">\n",
       "      <th></th>\n",
       "      <th>cell_subsets</th>\n",
       "      <th>pid</th>\n",
       "      <th>n_genes</th>\n",
       "    </tr>\n",
       "    <tr>\n",
       "      <th>barcodes</th>\n",
       "      <th></th>\n",
       "      <th></th>\n",
       "      <th></th>\n",
       "    </tr>\n",
       "  </thead>\n",
       "  <tbody>\n",
       "    <tr>\n",
       "      <th>AAACCTGTCTGGTTCC-1-0</th>\n",
       "      <td>Tumor</td>\n",
       "      <td>003_10x</td>\n",
       "      <td>767</td>\n",
       "    </tr>\n",
       "    <tr>\n",
       "      <th>AAACGGGTCCTTTCTC-1-0</th>\n",
       "      <td>Tumor</td>\n",
       "      <td>003_10x</td>\n",
       "      <td>603</td>\n",
       "    </tr>\n",
       "    <tr>\n",
       "      <th>AAACGGGTCTAACCGA-1-0</th>\n",
       "      <td>Fibroblast</td>\n",
       "      <td>003_10x</td>\n",
       "      <td>910</td>\n",
       "    </tr>\n",
       "    <tr>\n",
       "      <th>AAAGATGCAATGGACG-1-0</th>\n",
       "      <td>Tumor</td>\n",
       "      <td>003_10x</td>\n",
       "      <td>893</td>\n",
       "    </tr>\n",
       "    <tr>\n",
       "      <th>AAAGATGCACGGCTAC-1-0</th>\n",
       "      <td>Endothelial</td>\n",
       "      <td>003_10x</td>\n",
       "      <td>765</td>\n",
       "    </tr>\n",
       "    <tr>\n",
       "      <th>...</th>\n",
       "      <td>...</td>\n",
       "      <td>...</td>\n",
       "      <td>...</td>\n",
       "    </tr>\n",
       "    <tr>\n",
       "      <th>TTTGGTTCATGTGACT-1-14</th>\n",
       "      <td>Endothelial</td>\n",
       "      <td>2664_10x</td>\n",
       "      <td>1037</td>\n",
       "    </tr>\n",
       "    <tr>\n",
       "      <th>TTTGGTTGTGAGACCA-1-14</th>\n",
       "      <td>Tumor</td>\n",
       "      <td>2664_10x</td>\n",
       "      <td>1839</td>\n",
       "    </tr>\n",
       "    <tr>\n",
       "      <th>TTTGGTTTCCAGCCTT-1-14</th>\n",
       "      <td>Tumor</td>\n",
       "      <td>2664_10x</td>\n",
       "      <td>1793</td>\n",
       "    </tr>\n",
       "    <tr>\n",
       "      <th>TTTGTTGAGCGCCCAT-1-14</th>\n",
       "      <td>Tumor</td>\n",
       "      <td>2664_10x</td>\n",
       "      <td>4395</td>\n",
       "    </tr>\n",
       "    <tr>\n",
       "      <th>TTTGTTGAGTGCACAG-1-14</th>\n",
       "      <td>Tumor</td>\n",
       "      <td>2664_10x</td>\n",
       "      <td>2216</td>\n",
       "    </tr>\n",
       "  </tbody>\n",
       "</table>\n",
       "<p>88031 rows × 3 columns</p>\n",
       "</div>"
      ],
      "text/plain": [
       "                      cell_subsets       pid  n_genes\n",
       "barcodes                                             \n",
       "AAACCTGTCTGGTTCC-1-0         Tumor   003_10x      767\n",
       "AAACGGGTCCTTTCTC-1-0         Tumor   003_10x      603\n",
       "AAACGGGTCTAACCGA-1-0    Fibroblast   003_10x      910\n",
       "AAAGATGCAATGGACG-1-0         Tumor   003_10x      893\n",
       "AAAGATGCACGGCTAC-1-0   Endothelial   003_10x      765\n",
       "...                            ...       ...      ...\n",
       "TTTGGTTCATGTGACT-1-14  Endothelial  2664_10x     1037\n",
       "TTTGGTTGTGAGACCA-1-14        Tumor  2664_10x     1839\n",
       "TTTGGTTTCCAGCCTT-1-14        Tumor  2664_10x     1793\n",
       "TTTGTTGAGCGCCCAT-1-14        Tumor  2664_10x     4395\n",
       "TTTGTTGAGTGCACAG-1-14        Tumor  2664_10x     2216\n",
       "\n",
       "[88031 rows x 3 columns]"
      ]
     },
     "execution_count": 27,
     "metadata": {},
     "output_type": "execute_result"
    }
   ],
   "source": [
    "adata_naive.obs['cell_subsets'] = pd.Categorical(adata_naive.obs_names.map(naive_celltype_dict).astype(str))\n",
    "adata_naive.obs['pid'] = pd.Categorical(adata_naive.obs_names.map(naive_pid_dict).astype(str))\n",
    "adata_naive.obs['n_genes'] = adata_naive.obs_names.map(naive_ngenes_dict).astype(int)\n",
    "adata_naive.obs"
   ]
  },
  {
   "cell_type": "code",
   "execution_count": 28,
   "metadata": {},
   "outputs": [
    {
     "data": {
      "text/plain": [
       "<88031x22164 sparse matrix of type '<class 'numpy.float64'>'\n",
       "\twith 151832488 stored elements in Compressed Sparse Row format>"
      ]
     },
     "execution_count": 28,
     "metadata": {},
     "output_type": "execute_result"
    }
   ],
   "source": [
    "adata_naive.X"
   ]
  },
  {
   "cell_type": "code",
   "execution_count": 29,
   "metadata": {},
   "outputs": [
    {
     "data": {
      "text/plain": [
       "{'Acinar',\n",
       " 'Atypical_Ductal',\n",
       " 'Ductal',\n",
       " 'Endocrine',\n",
       " 'Endothelial',\n",
       " 'Fibroblast',\n",
       " 'Immune',\n",
       " 'NascentEndothelial',\n",
       " 'Schwann',\n",
       " 'SmoothMuscle',\n",
       " 'Tumor'}"
      ]
     },
     "execution_count": 29,
     "metadata": {},
     "output_type": "execute_result"
    }
   ],
   "source": [
    "set(adata_naive.obs['cell_subsets'])"
   ]
  },
  {
   "cell_type": "code",
   "execution_count": 30,
   "metadata": {},
   "outputs": [
    {
     "data": {
      "text/plain": [
       "'/home/wallet/Jupyter/TIL-X-PDAC-X-snRNAseq-X-2022-X-Hwang-X-10.1038_s41588-022-01134-8/matrix_files/TIL-X-PDAC-X-snRNAseq-X-2022-X-Hwang-X-10.1038_s41588-022-01134-8-X-naive.h5ad'"
      ]
     },
     "execution_count": 30,
     "metadata": {},
     "output_type": "execute_result"
    }
   ],
   "source": [
    "naive_save_path"
   ]
  },
  {
   "cell_type": "code",
   "execution_count": 31,
   "metadata": {},
   "outputs": [
    {
     "name": "stdout",
     "output_type": "stream",
     "text": [
      "saved to: /home/wallet/Jupyter/TIL-X-PDAC-X-snRNAseq-X-2022-X-Hwang-X-10.1038_s41588-022-01134-8/matrix_files/TIL-X-PDAC-X-snRNAseq-X-2022-X-Hwang-X-10.1038_s41588-022-01134-8-X-naive.h5ad\n"
     ]
    }
   ],
   "source": [
    "adata_naive.write(naive_save_path)\n",
    "print('saved to:',naive_save_path)"
   ]
  },
  {
   "attachments": {},
   "cell_type": "markdown",
   "metadata": {},
   "source": [
    "# get treated data"
   ]
  },
  {
   "cell_type": "code",
   "execution_count": 33,
   "metadata": {},
   "outputs": [
    {
     "data": {
      "text/plain": [
       "<22164x50516 sparse matrix of type '<class 'numpy.float64'>'\n",
       "\twith 77627464 stored elements in COOrdinate format>"
      ]
     },
     "execution_count": 33,
     "metadata": {},
     "output_type": "execute_result"
    }
   ],
   "source": [
    "treated_matrix = mmread(treated_matrix_path)\n",
    "treated_matrix"
   ]
  },
  {
   "cell_type": "code",
   "execution_count": 34,
   "metadata": {},
   "outputs": [],
   "source": [
    "treated_matrix = csr_matrix(treated_matrix.T)"
   ]
  },
  {
   "cell_type": "code",
   "execution_count": 35,
   "metadata": {},
   "outputs": [
    {
     "name": "stdout",
     "output_type": "stream",
     "text": [
      "text/plain; charset=us-ascii\n"
     ]
    }
   ],
   "source": [
    "#get file encoding\n",
    "!file -bi {treated_barcodes_path}"
   ]
  },
  {
   "cell_type": "code",
   "execution_count": 39,
   "metadata": {},
   "outputs": [
    {
     "data": {
      "text/html": [
       "<div>\n",
       "<style scoped>\n",
       "    .dataframe tbody tr th:only-of-type {\n",
       "        vertical-align: middle;\n",
       "    }\n",
       "\n",
       "    .dataframe tbody tr th {\n",
       "        vertical-align: top;\n",
       "    }\n",
       "\n",
       "    .dataframe thead th {\n",
       "        text-align: right;\n",
       "    }\n",
       "</style>\n",
       "<table border=\"1\" class=\"dataframe\">\n",
       "  <thead>\n",
       "    <tr style=\"text-align: right;\">\n",
       "      <th></th>\n",
       "      <th>AAACCCAAGCAGCAGT-1-0</th>\n",
       "    </tr>\n",
       "  </thead>\n",
       "  <tbody>\n",
       "    <tr>\n",
       "      <th>0</th>\n",
       "      <td>AAACCCAAGTGGTTCT-1-0</td>\n",
       "    </tr>\n",
       "    <tr>\n",
       "      <th>1</th>\n",
       "      <td>AAACCCACATTGTCGA-1-0</td>\n",
       "    </tr>\n",
       "    <tr>\n",
       "      <th>2</th>\n",
       "      <td>AAACCCAGTTGACTGT-1-0</td>\n",
       "    </tr>\n",
       "    <tr>\n",
       "      <th>3</th>\n",
       "      <td>AAACGAAAGTTGGAGC-1-0</td>\n",
       "    </tr>\n",
       "    <tr>\n",
       "      <th>4</th>\n",
       "      <td>AAACGAACATGGAGAC-1-0</td>\n",
       "    </tr>\n",
       "    <tr>\n",
       "      <th>...</th>\n",
       "      <td>...</td>\n",
       "    </tr>\n",
       "    <tr>\n",
       "      <th>50510</th>\n",
       "      <td>TTTGTCATCCATGAGT-1-10</td>\n",
       "    </tr>\n",
       "    <tr>\n",
       "      <th>50511</th>\n",
       "      <td>TTTGTCATCCGTTGTC-1-10</td>\n",
       "    </tr>\n",
       "    <tr>\n",
       "      <th>50512</th>\n",
       "      <td>TTTGTCATCTACTATC-1-10</td>\n",
       "    </tr>\n",
       "    <tr>\n",
       "      <th>50513</th>\n",
       "      <td>TTTGTCATCTAGCACA-1-10</td>\n",
       "    </tr>\n",
       "    <tr>\n",
       "      <th>50514</th>\n",
       "      <td>TTTGTCATCTGCGGCA-1-10</td>\n",
       "    </tr>\n",
       "  </tbody>\n",
       "</table>\n",
       "<p>50515 rows × 1 columns</p>\n",
       "</div>"
      ],
      "text/plain": [
       "        AAACCCAAGCAGCAGT-1-0\n",
       "0       AAACCCAAGTGGTTCT-1-0\n",
       "1       AAACCCACATTGTCGA-1-0\n",
       "2       AAACCCAGTTGACTGT-1-0\n",
       "3       AAACGAAAGTTGGAGC-1-0\n",
       "4       AAACGAACATGGAGAC-1-0\n",
       "...                      ...\n",
       "50510  TTTGTCATCCATGAGT-1-10\n",
       "50511  TTTGTCATCCGTTGTC-1-10\n",
       "50512  TTTGTCATCTACTATC-1-10\n",
       "50513  TTTGTCATCTAGCACA-1-10\n",
       "50514  TTTGTCATCTGCGGCA-1-10\n",
       "\n",
       "[50515 rows x 1 columns]"
      ]
     },
     "execution_count": 39,
     "metadata": {},
     "output_type": "execute_result"
    }
   ],
   "source": [
    "treated_barcodes"
   ]
  },
  {
   "cell_type": "code",
   "execution_count": 40,
   "metadata": {},
   "outputs": [
    {
     "data": {
      "text/html": [
       "<div>\n",
       "<style scoped>\n",
       "    .dataframe tbody tr th:only-of-type {\n",
       "        vertical-align: middle;\n",
       "    }\n",
       "\n",
       "    .dataframe tbody tr th {\n",
       "        vertical-align: top;\n",
       "    }\n",
       "\n",
       "    .dataframe thead th {\n",
       "        text-align: right;\n",
       "    }\n",
       "</style>\n",
       "<table border=\"1\" class=\"dataframe\">\n",
       "  <thead>\n",
       "    <tr style=\"text-align: right;\">\n",
       "      <th></th>\n",
       "    </tr>\n",
       "    <tr>\n",
       "      <th>barcodes</th>\n",
       "    </tr>\n",
       "  </thead>\n",
       "  <tbody>\n",
       "    <tr>\n",
       "      <th>AAACCCAAGCAGCAGT-1-0</th>\n",
       "    </tr>\n",
       "    <tr>\n",
       "      <th>AAACCCAAGTGGTTCT-1-0</th>\n",
       "    </tr>\n",
       "    <tr>\n",
       "      <th>AAACCCACATTGTCGA-1-0</th>\n",
       "    </tr>\n",
       "    <tr>\n",
       "      <th>AAACCCAGTTGACTGT-1-0</th>\n",
       "    </tr>\n",
       "    <tr>\n",
       "      <th>AAACGAAAGTTGGAGC-1-0</th>\n",
       "    </tr>\n",
       "    <tr>\n",
       "      <th>...</th>\n",
       "    </tr>\n",
       "    <tr>\n",
       "      <th>TTTGTCATCCATGAGT-1-10</th>\n",
       "    </tr>\n",
       "    <tr>\n",
       "      <th>TTTGTCATCCGTTGTC-1-10</th>\n",
       "    </tr>\n",
       "    <tr>\n",
       "      <th>TTTGTCATCTACTATC-1-10</th>\n",
       "    </tr>\n",
       "    <tr>\n",
       "      <th>TTTGTCATCTAGCACA-1-10</th>\n",
       "    </tr>\n",
       "    <tr>\n",
       "      <th>TTTGTCATCTGCGGCA-1-10</th>\n",
       "    </tr>\n",
       "  </tbody>\n",
       "</table>\n",
       "<p>50516 rows × 0 columns</p>\n",
       "</div>"
      ],
      "text/plain": [
       "Empty DataFrame\n",
       "Columns: []\n",
       "Index: [AAACCCAAGCAGCAGT-1-0, AAACCCAAGTGGTTCT-1-0, AAACCCACATTGTCGA-1-0, AAACCCAGTTGACTGT-1-0, AAACGAAAGTTGGAGC-1-0, AAACGAACATGGAGAC-1-0, AAACGAAGTGACAACG-1-0, AAACGAAGTGTCATTG-1-0, AAACGAATCTACTGAG-1-0, AAACGAATCTGGTCAA-1-0, AAACGCTAGACATAAC-1-0, AAACGCTAGATCCAAA-1-0, AAACGCTAGTCCTGTA-1-0, AAACGCTTCTAGCAAC-1-0, AAAGAACAGCTGAAGC-1-0, AAAGAACAGGAAACGA-1-0, AAAGAACAGGCTCAAG-1-0, AAAGAACCAGGAGACT-1-0, AAAGAACTCATGCCGG-1-0, AAAGAACTCTTCGGTC-1-0, AAAGGATGTACGACAG-1-0, AAAGGATTCCAACTAG-1-0, AAAGGGCAGCACTAAA-1-0, AAAGGGCCAGATTTCG-1-0, AAAGGGCGTACTGCCG-1-0, AAAGGGCGTCAGTCGC-1-0, AAAGGGCGTGAACTAA-1-0, AAAGGGCTCGGTGTAT-1-0, AAAGTCCAGCGGATCA-1-0, AAAGTCCAGGTGCGAT-1-0, AAAGTCCGTCGCTGCA-1-0, AAAGTCCGTTGCTGAT-1-0, AAAGTCCTCTACCTTA-1-0, AAAGTGAAGGCGACAT-1-0, AAAGTGAAGGTTCACT-1-0, AAAGTGACAAACACGG-1-0, AAAGTGAGTCCTCCAT-1-0, AAAGTGAGTCGCTTAA-1-0, AAAGTGAGTCTTGAAC-1-0, AAAGTGATCCTTTAGT-1-0, AAAGTGATCTTGGTCC-1-0, AAATGGAAGCAAACAT-1-0, AAATGGAAGTCCGTCG-1-0, AAATGGACACGCCACA-1-0, AAATGGATCACTTCTA-1-0, AAATGGATCATTTCGT-1-0, AACAAAGAGGAACGCT-1-0, AACAAAGAGGATAATC-1-0, AACAAAGCACCTAAAC-1-0, AACAAAGCACGACGCT-1-0, AACAAAGCAGAGATGC-1-0, AACAAAGGTGTCATTG-1-0, AACAAAGGTTTGCCGG-1-0, AACAAAGTCAGAACCT-1-0, AACAACCAGTATCTGC-1-0, AACAACCAGTGCACCC-1-0, AACAACCGTTGGCCTG-1-0, AACAACCTCCAAACCA-1-0, AACAAGAAGGGTCTTT-1-0, AACAAGACAAAGTGTA-1-0, AACAAGACATGAAAGT-1-0, AACAAGAGTCACCCTT-1-0, AACAAGAGTTGCACGC-1-0, AACAAGATCAGCAATC-1-0, AACACACCAGGAGACT-1-0, AACACACGTACCCGAC-1-0, AACAGGGAGTTCCATG-1-0, AACAGGGCAAAGTATG-1-0, AACAGGGCAAGAGGTC-1-0, AACAGGGCAGACATCT-1-0, AACAGGGCATGCCGAC-1-0, AACAGGGTCCTGATAG-1-0, AACCAACAGCTGTACT-1-0, AACCAACAGGAACTCG-1-0, AACCAACCACATAACC-1-0, AACCAACCATGGCCCA-1-0, AACCAACGTACGCTTA-1-0, AACCAACGTCCACTTC-1-0, AACCAACTCAGCAGAG-1-0, AACCACACAAGAGTTA-1-0, AACCACACACTCCTTG-1-0, AACCACAGTACGGGAT-1-0, AACCACAGTATCCTTT-1-0, AACCACAGTCGTTATG-1-0, AACCACAGTTCGGTCG-1-0, AACCACATCCACTGGG-1-0, AACCACATCGTTTACT-1-0, AACCATGCACACACGC-1-0, AACCATGGTGCACATT-1-0, AACCATGTCACCTACC-1-0, AACCCAAAGCTCCCTT-1-0, AACCCAAAGCTGTACT-1-0, AACCCAAGTGATGAAT-1-0, AACCCAATCCACTTTA-1-0, AACCCAATCCGTAGGC-1-0, AACCTGAAGAGGACTC-1-0, AACCTGAAGGGCCCTT-1-0, AACCTGACACAAATAG-1-0, AACCTGACAGGAGGAG-1-0, AACCTGATCATAGCAC-1-0, ...]\n",
       "\n",
       "[50516 rows x 0 columns]"
      ]
     },
     "execution_count": 40,
     "metadata": {},
     "output_type": "execute_result"
    }
   ],
   "source": [
    "treated_barcodes = pd.read_csv(treated_barcodes_path,header=None)\n",
    "treated_barcodes.columns = ['barcodes']\n",
    "treated_barcodes = treated_barcodes.set_index('barcodes')\n",
    "treated_barcodes"
   ]
  },
  {
   "cell_type": "code",
   "execution_count": 50,
   "metadata": {},
   "outputs": [
    {
     "data": {
      "text/html": [
       "<div>\n",
       "<style scoped>\n",
       "    .dataframe tbody tr th:only-of-type {\n",
       "        vertical-align: middle;\n",
       "    }\n",
       "\n",
       "    .dataframe tbody tr th {\n",
       "        vertical-align: top;\n",
       "    }\n",
       "\n",
       "    .dataframe thead th {\n",
       "        text-align: right;\n",
       "    }\n",
       "</style>\n",
       "<table border=\"1\" class=\"dataframe\">\n",
       "  <thead>\n",
       "    <tr style=\"text-align: right;\">\n",
       "      <th></th>\n",
       "    </tr>\n",
       "    <tr>\n",
       "      <th>gene_names</th>\n",
       "    </tr>\n",
       "  </thead>\n",
       "  <tbody>\n",
       "    <tr>\n",
       "      <th>FAM138A</th>\n",
       "    </tr>\n",
       "    <tr>\n",
       "      <th>OR4F5</th>\n",
       "    </tr>\n",
       "    <tr>\n",
       "      <th>OR4F29</th>\n",
       "    </tr>\n",
       "    <tr>\n",
       "      <th>OR4F16</th>\n",
       "    </tr>\n",
       "    <tr>\n",
       "      <th>FAM87B</th>\n",
       "    </tr>\n",
       "    <tr>\n",
       "      <th>...</th>\n",
       "    </tr>\n",
       "    <tr>\n",
       "      <th>AC233755.2</th>\n",
       "    </tr>\n",
       "    <tr>\n",
       "      <th>AC233755.1</th>\n",
       "    </tr>\n",
       "    <tr>\n",
       "      <th>AC240274.1</th>\n",
       "    </tr>\n",
       "    <tr>\n",
       "      <th>AC213203.1</th>\n",
       "    </tr>\n",
       "    <tr>\n",
       "      <th>FAM231C</th>\n",
       "    </tr>\n",
       "  </tbody>\n",
       "</table>\n",
       "<p>22164 rows × 0 columns</p>\n",
       "</div>"
      ],
      "text/plain": [
       "Empty DataFrame\n",
       "Columns: []\n",
       "Index: [FAM138A, OR4F5, OR4F29, OR4F16, FAM87B, LINC00115, FAM41C, SAMD11, NOC2L, KLHL17, PLEKHN1, PERM1, HES4, ISG15, AGRN, RNF223, C1orf159, LINC01342, TTLL10-AS1, TTLL10, TNFRSF18, TNFRSF4, SDF4, B3GALT6, UBE2J2, SCNN1D, ACAP3, PUSL1, CPTP, TAS1R3, DVL1, MXRA8, AURKAIP1, CCNL2, MRPL20, ANKRD65, TMEM88B, VWA1, ATAD3C, ATAD3B, ATAD3A, TMEM240, SSU72, AL645728.1, MIB2, MMP23B, CDK11B, SLC35E2B, CDK11A, NADK, GNB1, CALML6, TMEM52, CFAP74, GABRD, PRKCZ, FAAP20, SKI, MORN1, RER1, PEX10, PLCH2, PANK4, HES5, TNFRSF14, FAM213B, MMEL1, TTC34, ACTRT2, LINC00982, PRDM16, ARHGEF16, MEGF6, TPRG1L, WRAP73, TP73, CCDC27, SMIM1, LRRC47, CEP104, DFFB, C1orf174, LINC01134, LINC01346, AJAP1, NPHP4, KCNAB2, CHD5, RPL22, RNF207, ICMT, LINC00337, HES3, GPR153, ACOT7, HES2, ESPN, TNFRSF25, PLEKHG5, NOL9, ...]\n",
       "\n",
       "[22164 rows x 0 columns]"
      ]
     },
     "execution_count": 50,
     "metadata": {},
     "output_type": "execute_result"
    }
   ],
   "source": [
    "treated_genes = pd.read_csv(treated_genes_path,header=None)\n",
    "treated_genes.columns = ['gene_names']\n",
    "treated_genes['gene_names'] = treated_genes['gene_names'].astype(str)\n",
    "treated_genes = treated_genes.set_index('gene_names')\n",
    "treated_genes"
   ]
  },
  {
   "cell_type": "code",
   "execution_count": 51,
   "metadata": {},
   "outputs": [
    {
     "data": {
      "text/html": [
       "<div>\n",
       "<style scoped>\n",
       "    .dataframe tbody tr th:only-of-type {\n",
       "        vertical-align: middle;\n",
       "    }\n",
       "\n",
       "    .dataframe tbody tr th {\n",
       "        vertical-align: top;\n",
       "    }\n",
       "\n",
       "    .dataframe thead th {\n",
       "        text-align: right;\n",
       "    }\n",
       "</style>\n",
       "<table border=\"1\" class=\"dataframe\">\n",
       "  <thead>\n",
       "    <tr style=\"text-align: right;\">\n",
       "      <th></th>\n",
       "      <th>cell_subsets</th>\n",
       "      <th>pid</th>\n",
       "      <th>n_genes</th>\n",
       "    </tr>\n",
       "    <tr>\n",
       "      <th>NAME</th>\n",
       "      <th></th>\n",
       "      <th></th>\n",
       "      <th></th>\n",
       "    </tr>\n",
       "  </thead>\n",
       "  <tbody>\n",
       "    <tr>\n",
       "      <th>AAACCCAAGCAGCAGT-1-0</th>\n",
       "      <td>Fibroblast</td>\n",
       "      <td>008_10x</td>\n",
       "      <td>2444</td>\n",
       "    </tr>\n",
       "    <tr>\n",
       "      <th>AAACCCAAGTGGTTCT-1-0</th>\n",
       "      <td>Ductal</td>\n",
       "      <td>008_10x</td>\n",
       "      <td>6044</td>\n",
       "    </tr>\n",
       "    <tr>\n",
       "      <th>AAACCCACATTGTCGA-1-0</th>\n",
       "      <td>Endothelial</td>\n",
       "      <td>008_10x</td>\n",
       "      <td>5152</td>\n",
       "    </tr>\n",
       "    <tr>\n",
       "      <th>AAACCCAGTTGACTGT-1-0</th>\n",
       "      <td>Endocrine</td>\n",
       "      <td>008_10x</td>\n",
       "      <td>2603</td>\n",
       "    </tr>\n",
       "    <tr>\n",
       "      <th>AAACGAAAGTTGGAGC-1-0</th>\n",
       "      <td>Ductal</td>\n",
       "      <td>008_10x</td>\n",
       "      <td>2156</td>\n",
       "    </tr>\n",
       "    <tr>\n",
       "      <th>...</th>\n",
       "      <td>...</td>\n",
       "      <td>...</td>\n",
       "      <td>...</td>\n",
       "    </tr>\n",
       "    <tr>\n",
       "      <th>TTTGTCATCCATGAGT-1-10</th>\n",
       "      <td>Fibroblast</td>\n",
       "      <td>2668_10x</td>\n",
       "      <td>493</td>\n",
       "    </tr>\n",
       "    <tr>\n",
       "      <th>TTTGTCATCCGTTGTC-1-10</th>\n",
       "      <td>Endocrine</td>\n",
       "      <td>2668_10x</td>\n",
       "      <td>795</td>\n",
       "    </tr>\n",
       "    <tr>\n",
       "      <th>TTTGTCATCTACTATC-1-10</th>\n",
       "      <td>Fibroblast</td>\n",
       "      <td>2668_10x</td>\n",
       "      <td>623</td>\n",
       "    </tr>\n",
       "    <tr>\n",
       "      <th>TTTGTCATCTAGCACA-1-10</th>\n",
       "      <td>Ductal</td>\n",
       "      <td>2668_10x</td>\n",
       "      <td>738</td>\n",
       "    </tr>\n",
       "    <tr>\n",
       "      <th>TTTGTCATCTGCGGCA-1-10</th>\n",
       "      <td>Ductal</td>\n",
       "      <td>2668_10x</td>\n",
       "      <td>1049</td>\n",
       "    </tr>\n",
       "  </tbody>\n",
       "</table>\n",
       "<p>50516 rows × 3 columns</p>\n",
       "</div>"
      ],
      "text/plain": [
       "                      cell_subsets       pid n_genes\n",
       "NAME                                                \n",
       "AAACCCAAGCAGCAGT-1-0    Fibroblast   008_10x    2444\n",
       "AAACCCAAGTGGTTCT-1-0        Ductal   008_10x    6044\n",
       "AAACCCACATTGTCGA-1-0   Endothelial   008_10x    5152\n",
       "AAACCCAGTTGACTGT-1-0     Endocrine   008_10x    2603\n",
       "AAACGAAAGTTGGAGC-1-0        Ductal   008_10x    2156\n",
       "...                            ...       ...     ...\n",
       "TTTGTCATCCATGAGT-1-10   Fibroblast  2668_10x     493\n",
       "TTTGTCATCCGTTGTC-1-10    Endocrine  2668_10x     795\n",
       "TTTGTCATCTACTATC-1-10   Fibroblast  2668_10x     623\n",
       "TTTGTCATCTAGCACA-1-10       Ductal  2668_10x     738\n",
       "TTTGTCATCTGCGGCA-1-10       Ductal  2668_10x    1049\n",
       "\n",
       "[50516 rows x 3 columns]"
      ]
     },
     "execution_count": 51,
     "metadata": {},
     "output_type": "execute_result"
    }
   ],
   "source": [
    "treated_annotations = pd.read_csv(treated_annotations_path,sep='\\t')\n",
    "treated_annotations = treated_annotations.drop(index=[0])\n",
    "treated_annotations = treated_annotations.set_index('NAME')\n",
    "treated_annotations"
   ]
  },
  {
   "cell_type": "code",
   "execution_count": 52,
   "metadata": {},
   "outputs": [],
   "source": [
    "#transform to dicts\n",
    "treated_celltype_dict = treated_annotations['cell_subsets'].to_dict()\n",
    "treated_pid_dict = treated_annotations['pid'].to_dict()\n",
    "treated_ngenes_dict = treated_annotations['n_genes'].to_dict()"
   ]
  },
  {
   "cell_type": "code",
   "execution_count": 53,
   "metadata": {},
   "outputs": [
    {
     "data": {
      "text/plain": [
       "AnnData object with n_obs × n_vars = 50516 × 22164"
      ]
     },
     "execution_count": 53,
     "metadata": {},
     "output_type": "execute_result"
    }
   ],
   "source": [
    "adata_treated = anndata.AnnData(X=treated_matrix, obs=treated_barcodes, var=treated_genes, uns=None, obsm=None, varm=None, layers=None, raw=None, \n",
    "                              shape=None, filename=None, filemode=None, asview=False, obsp=None, varp=None, \n",
    "                              oidx=None, vidx=None)\n",
    "adata_treated"
   ]
  },
  {
   "cell_type": "code",
   "execution_count": 57,
   "metadata": {},
   "outputs": [
    {
     "data": {
      "text/html": [
       "<div>\n",
       "<style scoped>\n",
       "    .dataframe tbody tr th:only-of-type {\n",
       "        vertical-align: middle;\n",
       "    }\n",
       "\n",
       "    .dataframe tbody tr th {\n",
       "        vertical-align: top;\n",
       "    }\n",
       "\n",
       "    .dataframe thead th {\n",
       "        text-align: right;\n",
       "    }\n",
       "</style>\n",
       "<table border=\"1\" class=\"dataframe\">\n",
       "  <thead>\n",
       "    <tr style=\"text-align: right;\">\n",
       "      <th></th>\n",
       "      <th>cell_subsets</th>\n",
       "      <th>pid</th>\n",
       "      <th>n_genes</th>\n",
       "    </tr>\n",
       "    <tr>\n",
       "      <th>barcodes</th>\n",
       "      <th></th>\n",
       "      <th></th>\n",
       "      <th></th>\n",
       "    </tr>\n",
       "  </thead>\n",
       "  <tbody>\n",
       "    <tr>\n",
       "      <th>AAACCCAAGCAGCAGT-1-0</th>\n",
       "      <td>Fibroblast</td>\n",
       "      <td>008_10x</td>\n",
       "      <td>2444</td>\n",
       "    </tr>\n",
       "    <tr>\n",
       "      <th>AAACCCAAGTGGTTCT-1-0</th>\n",
       "      <td>Ductal</td>\n",
       "      <td>008_10x</td>\n",
       "      <td>6044</td>\n",
       "    </tr>\n",
       "    <tr>\n",
       "      <th>AAACCCACATTGTCGA-1-0</th>\n",
       "      <td>Endothelial</td>\n",
       "      <td>008_10x</td>\n",
       "      <td>5152</td>\n",
       "    </tr>\n",
       "    <tr>\n",
       "      <th>AAACCCAGTTGACTGT-1-0</th>\n",
       "      <td>Endocrine</td>\n",
       "      <td>008_10x</td>\n",
       "      <td>2603</td>\n",
       "    </tr>\n",
       "    <tr>\n",
       "      <th>AAACGAAAGTTGGAGC-1-0</th>\n",
       "      <td>Ductal</td>\n",
       "      <td>008_10x</td>\n",
       "      <td>2156</td>\n",
       "    </tr>\n",
       "    <tr>\n",
       "      <th>...</th>\n",
       "      <td>...</td>\n",
       "      <td>...</td>\n",
       "      <td>...</td>\n",
       "    </tr>\n",
       "    <tr>\n",
       "      <th>TTTGTCATCCATGAGT-1-10</th>\n",
       "      <td>Fibroblast</td>\n",
       "      <td>2668_10x</td>\n",
       "      <td>493</td>\n",
       "    </tr>\n",
       "    <tr>\n",
       "      <th>TTTGTCATCCGTTGTC-1-10</th>\n",
       "      <td>Endocrine</td>\n",
       "      <td>2668_10x</td>\n",
       "      <td>795</td>\n",
       "    </tr>\n",
       "    <tr>\n",
       "      <th>TTTGTCATCTACTATC-1-10</th>\n",
       "      <td>Fibroblast</td>\n",
       "      <td>2668_10x</td>\n",
       "      <td>623</td>\n",
       "    </tr>\n",
       "    <tr>\n",
       "      <th>TTTGTCATCTAGCACA-1-10</th>\n",
       "      <td>Ductal</td>\n",
       "      <td>2668_10x</td>\n",
       "      <td>738</td>\n",
       "    </tr>\n",
       "    <tr>\n",
       "      <th>TTTGTCATCTGCGGCA-1-10</th>\n",
       "      <td>Ductal</td>\n",
       "      <td>2668_10x</td>\n",
       "      <td>1049</td>\n",
       "    </tr>\n",
       "  </tbody>\n",
       "</table>\n",
       "<p>50516 rows × 3 columns</p>\n",
       "</div>"
      ],
      "text/plain": [
       "                      cell_subsets       pid  n_genes\n",
       "barcodes                                             \n",
       "AAACCCAAGCAGCAGT-1-0    Fibroblast   008_10x     2444\n",
       "AAACCCAAGTGGTTCT-1-0        Ductal   008_10x     6044\n",
       "AAACCCACATTGTCGA-1-0   Endothelial   008_10x     5152\n",
       "AAACCCAGTTGACTGT-1-0     Endocrine   008_10x     2603\n",
       "AAACGAAAGTTGGAGC-1-0        Ductal   008_10x     2156\n",
       "...                            ...       ...      ...\n",
       "TTTGTCATCCATGAGT-1-10   Fibroblast  2668_10x      493\n",
       "TTTGTCATCCGTTGTC-1-10    Endocrine  2668_10x      795\n",
       "TTTGTCATCTACTATC-1-10   Fibroblast  2668_10x      623\n",
       "TTTGTCATCTAGCACA-1-10       Ductal  2668_10x      738\n",
       "TTTGTCATCTGCGGCA-1-10       Ductal  2668_10x     1049\n",
       "\n",
       "[50516 rows x 3 columns]"
      ]
     },
     "execution_count": 57,
     "metadata": {},
     "output_type": "execute_result"
    }
   ],
   "source": [
    "adata_treated.obs['cell_subsets'] = pd.Categorical(adata_treated.obs_names.map(treated_celltype_dict).astype(str))\n",
    "adata_treated.obs['pid'] = pd.Categorical(adata_treated.obs_names.map(treated_pid_dict).astype(str))\n",
    "adata_treated.obs['n_genes'] = adata_treated.obs_names.map(treated_ngenes_dict).astype(int)\n",
    "adata_treated.obs"
   ]
  },
  {
   "cell_type": "code",
   "execution_count": 58,
   "metadata": {},
   "outputs": [
    {
     "name": "stdout",
     "output_type": "stream",
     "text": [
      "saved to: /home/wallet/Jupyter/TIL-X-PDAC-X-snRNAseq-X-2022-X-Hwang-X-10.1038_s41588-022-01134-8/matrix_files/TIL-X-PDAC-X-snRNAseq-X-2022-X-Hwang-X-10.1038_s41588-022-01134-8-X-treated.h5ad\n"
     ]
    }
   ],
   "source": [
    "adata_treated.write(treated_save_path)\n",
    "print('saved to:',treated_save_path)"
   ]
  },
  {
   "cell_type": "code",
   "execution_count": 60,
   "metadata": {},
   "outputs": [],
   "source": [
    "adata_treated.obs['treated'] = ['True']*len(adata_treated)\n",
    "adata_treated.obs['treated'] =pd.Categorical(adata_treated.obs['treated'])\n",
    "adata_naive.obs['treated'] = ['False']*len(adata_naive)\n",
    "adata_naive.obs['treated'] =pd.Categorical(adata_naive.obs['treated'])\n"
   ]
  },
  {
   "cell_type": "code",
   "execution_count": 63,
   "metadata": {},
   "outputs": [
    {
     "name": "stderr",
     "output_type": "stream",
     "text": [
      "/home/wallet/miniconda3/envs/2023_sc_pytorch/lib/python3.10/site-packages/anndata/_core/anndata.py:1755: FutureWarning: The AnnData.concatenate method is deprecated in favour of the anndata.concat function. Please use anndata.concat instead.\n",
      "\n",
      "See the tutorial for concat at: https://anndata.readthedocs.io/en/latest/concatenation.html\n",
      "  warnings.warn(\n"
     ]
    }
   ],
   "source": [
    "#concatenate adatas\n",
    "adata = adata_naive.concatenate([adata_treated],join='outer', batch_key='treated', batch_categories=['untreated','treated'], \n",
    "                            uns_merge=None, index_unique='-', fill_value=None)"
   ]
  },
  {
   "cell_type": "code",
   "execution_count": 71,
   "metadata": {},
   "outputs": [
    {
     "data": {
      "text/plain": [
       "AnnData object with n_obs × n_vars = 138547 × 22164\n",
       "    obs: 'cell_subsets', 'pid', 'n_genes', 'treated'"
      ]
     },
     "execution_count": 71,
     "metadata": {},
     "output_type": "execute_result"
    }
   ],
   "source": [
    "adata"
   ]
  },
  {
   "cell_type": "code",
   "execution_count": 70,
   "metadata": {},
   "outputs": [
    {
     "name": "stdout",
     "output_type": "stream",
     "text": [
      "saved to: /home/wallet/Jupyter/TIL-X-PDAC-X-snRNAseq-X-2022-X-Hwang-X-10.1038_s41588-022-01134-8/matrix_files/TIL-X-PDAC-X-snRNAseq-X-2022-X-Hwang-X-10.1038_s41588-022-01134-8-X-all_cells.h5ad\n"
     ]
    }
   ],
   "source": [
    "adata.write(adata_save_path)\n",
    "print('saved to:',adata_save_path)"
   ]
  },
  {
   "attachments": {},
   "cell_type": "markdown",
   "metadata": {},
   "source": [
    "# explore data"
   ]
  },
  {
   "cell_type": "code",
   "execution_count": 7,
   "metadata": {},
   "outputs": [],
   "source": [
    "adata_path  = DATA_DIR + 'TIL-X-PDAC-X-snRNAseq-X-2022-X-Hwang-X-10.1038_s41588-022-01134-8-X-all_cells.h5ad'"
   ]
  },
  {
   "cell_type": "code",
   "execution_count": 17,
   "metadata": {},
   "outputs": [
    {
     "data": {
      "text/plain": [
       "AnnData object with n_obs × n_vars = 138547 × 22164\n",
       "    obs: 'cell_subsets', 'pid', 'n_genes', 'treated'"
      ]
     },
     "execution_count": 17,
     "metadata": {},
     "output_type": "execute_result"
    }
   ],
   "source": [
    "adata = sc.read(adata_path)\n",
    "adata"
   ]
  },
  {
   "cell_type": "code",
   "execution_count": 18,
   "metadata": {},
   "outputs": [
    {
     "data": {
      "text/plain": [
       "AnnData object with n_obs × n_vars = 138547 × 22164\n",
       "    obs: 'cell_subsets', 'pid', 'n_genes', 'treated'"
      ]
     },
     "execution_count": 18,
     "metadata": {},
     "output_type": "execute_result"
    }
   ],
   "source": [
    "adata"
   ]
  },
  {
   "cell_type": "code",
   "execution_count": 23,
   "metadata": {},
   "outputs": [
    {
     "data": {
      "image/png": "[encoded data removed]",
      "text/plain": [
       "<Figure size 374.4x349.2 with 4 Axes>"
      ]
     },
     "metadata": {
      "needs_background": "light"
     },
     "output_type": "display_data"
    }
   ],
   "source": [
    "markers = ['CCL2', 'CCL4', 'CCL5', 'CXCL1', 'CXCL8', 'CXCL10','ICAM1',\n",
    "           'IL1A','IL6','TNF']\n",
    "markers_clean = [x for x in markers if x in adata.var_names]\n",
    "sc.pl.dotplot(adata, markers_clean, groupby='cell_subsets', dendrogram=False)"
   ]
  },
  {
   "cell_type": "code",
   "execution_count": 27,
   "metadata": {},
   "outputs": [],
   "source": [
    "import cytopus as cp"
   ]
  },
  {
   "cell_type": "code",
   "execution_count": 29,
   "metadata": {},
   "outputs": [
    {
     "name": "stdout",
     "output_type": "stream",
     "text": [
      "KnowledgeBase object containing 75 cell types and 201 cellular processes\n",
      "\n"
     ]
    },
    {
     "data": {
      "text/plain": [
       "<cytopus.KnowledgeBase.kb_queries.KnowledgeBase at 0x7f5aa0d4f070>"
      ]
     },
     "execution_count": 29,
     "metadata": {},
     "output_type": "execute_result"
    }
   ],
   "source": [
    "G = cp.kb.KnowledgeBase()\n",
    "G"
   ]
  },
  {
   "cell_type": "code",
   "execution_count": 33,
   "metadata": {},
   "outputs": [
    {
     "data": {
      "image/png": "[encoded data removed]",
      "text/plain": [
       "<Figure size 1866.24x349.2 with 4 Axes>"
      ]
     },
     "metadata": {
      "needs_background": "light"
     },
     "output_type": "display_data"
    }
   ],
   "source": [
    "markers = list(G.processes['all_SASP'])\n",
    "markers_clean = [x for x in markers if x in adata.var_names]\n",
    "sc.pl.dotplot(adata, markers_clean, groupby='cell_subsets', dendrogram=False)"
   ]
  },
  {
   "cell_type": "code",
   "execution_count": 37,
   "metadata": {},
   "outputs": [
    {
     "name": "stdout",
     "output_type": "stream",
     "text": [
      "  (0, 12324)\t4.38658\n",
      "  (0, 12328)\t3.7057991\n",
      "  (0, 12329)\t2.3906541\n",
      "  (0, 12327)\t3.9240142999999996\n",
      "  (0, 12323)\t4.7878885\n",
      "  (0, 12319)\t3.7057991\n",
      "  (0, 12322)\t4.2548242\n",
      "  (0, 12321)\t5.0093646\n",
      "  (0, 12326)\t3.4262772000000004\n",
      "  (0, 12325)\t4.1030369\n",
      "  (0, 5087)\t2.3906541\n",
      "  (0, 4173)\t2.3906541\n",
      "  (0, 19080)\t3.4262772000000004\n",
      "  (0, 2030)\t2.3906541\n",
      "  (0, 8101)\t2.3906541\n",
      "  (0, 18009)\t3.0369351000000004\n",
      "  (0, 16818)\t2.3906541\n",
      "  (0, 2288)\t2.3906541\n",
      "  (0, 19689)\t3.0369351000000004\n",
      "  (0, 19411)\t2.3906541\n",
      "  (0, 11556)\t2.3906541\n",
      "  (0, 2182)\t2.3906541\n",
      "  (0, 16505)\t3.0369351000000004\n",
      "  (0, 5867)\t2.3906541\n",
      "  (0, 16081)\t2.3906541\n",
      "  :\t:\n",
      "  (138546, 5286)\t2.1219667999999996\n",
      "  (138546, 12892)\t2.1219667999999996\n",
      "  (138546, 18344)\t2.1219667999999996\n",
      "  (138546, 13211)\t2.1219667999999996\n",
      "  (138546, 13904)\t2.1219667999999996\n",
      "  (138546, 5864)\t2.1219667999999996\n",
      "  (138546, 6081)\t2.1219667999999996\n",
      "  (138546, 11614)\t2.1219667999999996\n",
      "  (138546, 3154)\t2.1219667999999996\n",
      "  (138546, 21280)\t2.1219667999999996\n",
      "  (138546, 8047)\t2.1219667999999996\n",
      "  (138546, 20183)\t2.1219667999999996\n",
      "  (138546, 21554)\t2.1219667999999996\n",
      "  (138546, 16736)\t2.1219667999999996\n",
      "  (138546, 9543)\t2.1219667999999996\n",
      "  (138546, 17061)\t2.1219667999999996\n",
      "  (138546, 18330)\t2.1219667999999996\n",
      "  (138546, 992)\t2.1219667999999996\n",
      "  (138546, 16654)\t2.1219667999999996\n",
      "  (138546, 18325)\t2.1219667999999996\n",
      "  (138546, 1597)\t2.1219667999999996\n",
      "  (138546, 18703)\t2.1219667999999996\n",
      "  (138546, 6461)\t2.1219667999999996\n",
      "  (138546, 20975)\t2.1219667999999996\n",
      "  (138546, 12049)\t2.1219667999999996\n"
     ]
    }
   ],
   "source": [
    "print(adata.X)"
   ]
  },
  {
   "cell_type": "code",
   "execution_count": null,
   "metadata": {},
   "outputs": [],
   "source": [
    "#define minimum number of cells per gene and minimum genes per cell\n",
    "min_cell_number = 20\n",
    "min_gene_number = 200"
   ]
  }
 ],
 "metadata": {
  "kernelspec": {
   "display_name": "2023_cytopus",
   "language": "python",
   "name": "python3"
  },
  "language_info": {
   "codemirror_mode": {
    "name": "ipython",
    "version": 3
   },
   "file_extension": ".py",
   "mimetype": "text/x-python",
   "name": "python",
   "nbconvert_exporter": "python",
   "pygments_lexer": "ipython3",
   "version": "3.10.4"
  },
  "orig_nbformat": 4
 },
 "nbformat": 4,
 "nbformat_minor": 2
}
