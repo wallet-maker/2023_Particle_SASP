{
 "cells": [
  {
   "cell_type": "markdown",
   "id": "1447c3d4",
   "metadata": {},
   "source": [
    "# load packages"
   ]
  },
  {
   "cell_type": "code",
   "execution_count": 1,
   "id": "1ce2819c",
   "metadata": {},
   "outputs": [],
   "source": [
    "fig_save_path = '/data/peer/wallet/Jupyter/2023_Particle_SASP/figures/'\n",
    "DATA_DIR = '/data/peer/wallet/Jupyter/2023_Particle_SASP/data/'"
   ]
  },
  {
   "cell_type": "code",
   "execution_count": 2,
   "id": "d175d47b",
   "metadata": {},
   "outputs": [],
   "source": [
    "# import packages \n",
    "import scanpy as sc\n",
    "import scanpy.external as sce\n",
    "import anndata as anndata\n",
    "from anndata import AnnData\n",
    "import time\n",
    "import os\n",
    "import numpy as np\n",
    "import seaborn as sns\n",
    "import pandas as pd\n",
    "import re\n",
    "import h5py\n",
    "import scipy\n",
    "import matplotlib\n",
    "import matplotlib.pyplot as plt\n",
    "import matplotlib.gridspec as gridspec\n",
    "from matplotlib.colors import LinearSegmentedColormap\n",
    "import matplotlib.patches as patches\n",
    "import matplotlib.colors as colors\n",
    "import matplotlib.font_manager\n",
    "\n",
    "# other packages\n",
    "import glob\n",
    "from collections import OrderedDict\n",
    "from scipy.sparse import csr_matrix\n",
    "#import diffxpy.api as de\n",
    "from scanpy.external.pp import magic\n",
    "from scipy.stats import zscore\n",
    "import scipy.cluster.hierarchy as hc\n",
    "from statistics import median\n",
    "import math\n",
    "from typing import Union\n",
    "import phenograph\n",
    "import numpy.matlib\n",
    "\n",
    "from kneed import KneeLocator\n"
   ]
  },
  {
   "cell_type": "code",
   "execution_count": 3,
   "id": "d8f00553",
   "metadata": {},
   "outputs": [],
   "source": [
    "#custom libraries\n",
    "from scrnaseq_preprocessing_utils import *"
   ]
  },
  {
   "cell_type": "code",
   "execution_count": 4,
   "id": "f5ead8c3",
   "metadata": {},
   "outputs": [],
   "source": [
    "#set style\n",
    "sns.set_style('white')\n",
    "# define colors\n",
    "color_map_clusters_nogrey = [\"#FFFF00\", \"#1CE6FF\", \"#FF34FF\", \"#FF4A46\", \"#008941\", \"#006FA6\", \"#A30059\", \"#7A4900\", \"#0000A6\", \"#63FFAC\", \"#B79762\", \"#004D43\", \"#8FB0FF\", \"#997D87\",\n",
    "\"#5A0007\", \"#809693\", \"#1B4400\", \"#4FC601\", \"#3B5DFF\", \"#4A3B53\", \"#FF2F80\",\n",
    "\"#61615A\", \"#BA0900\", \"#6B7900\", \"#00C2A0\", \"#FFAA92\", \"#FF90C9\", \"#B903AA\", \"#D16100\",\n",
    "\"#DDEFFF\", \"#000035\", \"#7B4F4B\", \"#A1C299\", \"#300018\", \"#0AA6D8\", \"#013349\", \"#00846F\",\n",
    "\"#372101\", \"#FFB500\", \"#C2FFED\", \"#A079BF\", \"#CC0744\", \"#C0B9B2\", \"#C2FF99\", \"#001E09\",\n",
    "\"#00489C\", \"#6F0062\", \"#0CBD66\", \"#EEC3FF\", \"#456D75\", \"#B77B68\", \"#7A87A1\", \"#788D66\",\n",
    "\"#885578\", \"#FAD09F\", \"#FF8A9A\", \"#D157A0\", \"#BEC459\", \"#456648\", \"#0086ED\", \"#886F4C\",\n",
    "\"#34362D\", \"#B4A8BD\", \"#00A6AA\", \"#452C2C\", \"#636375\", \"#A3C8C9\", \"#FF913F\", \"#938A81\",\n",
    "\"#575329\", \"#00FECF\", \"#B05B6F\", \"#8CD0FF\", \"#3B9700\", \"#04F757\", \"#C8A1A1\", \"#1E6E00\",\n",
    "\"#7900D7\", \"#A77500\", \"#6367A9\", \"#A05837\", \"#6B002C\", \"#772600\", \"#D790FF\", \"#9B9700\",\n",
    "\"#549E79\", \"#FFF69F\", \"#201625\", \"#72418F\", \"#BC23FF\", \"#99ADC0\", \"#3A2465\", \"#922329\",\n",
    "\"#5B4534\", \"#FDE8DC\", \"#404E55\", \"#0089A3\", \"#CB7E98\", \"#A4E804\", \"#324E72\", \"#6A3A4C\"]"
   ]
  },
  {
   "cell_type": "markdown",
   "id": "b1140dce",
   "metadata": {},
   "source": [
    "# annotate cells"
   ]
  },
  {
   "cell_type": "code",
   "execution_count": 49,
   "id": "8879db90",
   "metadata": {},
   "outputs": [],
   "source": [
    "\n",
    "adata_path = DATA_DIR + 'TIL-X-PAAD-X-snRNAseq-X-2022-X-Hwang-X-10.1038_s41588-022-01134-8-X-all_cells_Milo.h5ad'\n",
    "adata_save_path = DATA_DIR + 'TIL-X-PAAD-X-snRNAseq-X-2022-X-Hwang-X-10.1038_s41588-022-01134-8-X-all_cells_Milo_annotated.h5ad'\n",
    "csv_save_path = DATA_DIR + 'TIL-X-PAAD-X-snRNAseq-X-2022-X-Hwang-X-10.1038_s41588-022-01134-8-X-annotations.csv'\n",
    "#annotations\n",
    "adata_B_path = '/data/peer/wallet/Jupyter/2023_Particle_SASP/data/TIL-X-PAAD-X-snRNAseq-X-2022-X-Hwang-X-10.1038_s41588-022-01134-8-X-all_cells_Milo_immune_2500hv_annotated_BP_2500hv.h5ad'\n",
    "adata_M_path = '/data/peer/wallet/Jupyter/2023_Particle_SASP/data/TIL-X-PAAD-X-snRNAseq-X-2022-X-Hwang-X-10.1038_s41588-022-01134-8-X-all_cells_Milo_immune_2500hv_annotated_M_5000hv.h5ad'\n",
    "adata_TNK_path = DATA_DIR + 'TIL-X-PAAD-X-snRNAseq-X-2022-X-Hwang-X-10.1038_s41588-022-01134-8-X-all_cells_Milo_immune_2500hv_annotated_TNK_2500hv.h5ad'\n",
    "adata_ILC_path = '/data/peer/wallet/Jupyter/2023_Particle_SASP/data/TIL-X-PAAD-X-snRNAseq-X-2022-X-Hwang-X-10.1038_s41588-022-01134-8-X-all_cells_Milo_immune_2500hv_annotated_TNK_2500hv_ILC_2500.h5ad'\n",
    "\n",
    "adata_paths = [adata_B_path, adata_M_path, adata_TNK_path,adata_ILC_path] \n",
    "\n",
    "make_raw= False\n"
   ]
  },
  {
   "cell_type": "code",
   "execution_count": 6,
   "id": "8da163bd",
   "metadata": {},
   "outputs": [
    {
     "data": {
      "text/plain": [
       "Index(['TTTCATGCATGACTGT-1-1', 'ATGAGTCAGGGTACAC-1-1', 'TCCTTTCAGAGATGCC-1-1',\n",
       "       'GCAGCCATCCACTTCG-1-1', 'TACGTCCGTCGCTTAA-1-1', 'TGATTTCAGCGCCTTG-1-1',\n",
       "       'ATGCGATTCGTAGGGA-1-1', 'GTCGTAATCGTGCATA-1-1', 'TATTGGGAGACGCCCT-1-1',\n",
       "       'CACGTGGAGTTGGCGA-1-1',\n",
       "       ...\n",
       "       'TGTCCCATCAAGTGGG-1-45', 'ATCCACCGTTAAGTCC-1-45',\n",
       "       'TATTGCTGTAACATGA-1-45', 'GTCGTAAGTGTATACC-1-45',\n",
       "       'CCCTTAGTCAGTGATC-1-45', 'CTGTAGAAGATCGACG-1-45',\n",
       "       'GTGGAAGTCAGAGTTC-1-45', 'CTAACCCAGCTCGAAG-1-45',\n",
       "       'CTCCTTTCACAATGAA-1-45', 'TCGTGCTAGCGATGCA-1-45'],\n",
       "      dtype='object', length=207661)"
      ]
     },
     "execution_count": 6,
     "metadata": {},
     "output_type": "execute_result"
    }
   ],
   "source": [
    "#load adata\n",
    "adata = sc.read(adata_path)\n",
    "adata_annotations = []\n",
    "\n",
    "for i in adata_paths:\n",
    "    adata_subset = sc.read(i)\n",
    "    adata_annotations.append(adata_subset)\n",
    "    del adata_subset\n",
    "\n",
    "adata.obs_names #check whether format is barcode_sampleid"
   ]
  },
  {
   "cell_type": "code",
   "execution_count": 7,
   "id": "82e383f6",
   "metadata": {},
   "outputs": [
    {
     "name": "stdout",
     "output_type": "stream",
     "text": [
      "  (0, 22140)\t1.9689747\n",
      "  (0, 22139)\t0.70666605\n",
      "  (0, 22138)\t1.4065048\n",
      "  (0, 22137)\t2.102981\n",
      "  (0, 22136)\t1.1165972\n",
      "  (0, 22135)\t2.102981\n",
      "  (0, 22134)\t3.1166945\n",
      "  (0, 22133)\t2.102981\n",
      "  (0, 22131)\t3.0212638\n",
      "  (0, 22130)\t2.102981\n",
      "  (0, 22129)\t2.4223406\n",
      "  (0, 22128)\t2.2211332\n",
      "  (0, 22125)\t0.70666605\n",
      "  (0, 22121)\t0.70666605\n",
      "  (0, 22120)\t1.1165972\n",
      "  (0, 22119)\t1.1165972\n",
      "  (0, 22115)\t0.70666605\n",
      "  (0, 22092)\t1.1165972\n",
      "  (0, 22091)\t0.70666605\n",
      "  (0, 22058)\t0.70666605\n",
      "  (0, 22057)\t1.1165972\n",
      "  (0, 22054)\t1.1165972\n",
      "  (0, 22042)\t0.70666605\n",
      "  (0, 22025)\t0.70666605\n",
      "  (0, 22023)\t0.70666605\n",
      "  :\t:\n",
      "  (207660, 4575)\t4.2686133\n",
      "  (207660, 4490)\t4.2686133\n",
      "  (207660, 4343)\t4.2686133\n",
      "  (207660, 4288)\t4.2686133\n",
      "  (207660, 4264)\t4.2686133\n",
      "  (207660, 3953)\t4.2686133\n",
      "  (207660, 3890)\t4.2686133\n",
      "  (207660, 3460)\t4.2686133\n",
      "  (207660, 3398)\t4.2686133\n",
      "  (207660, 3333)\t4.2686133\n",
      "  (207660, 3236)\t4.2686133\n",
      "  (207660, 3220)\t4.2686133\n",
      "  (207660, 3203)\t4.2686133\n",
      "  (207660, 3194)\t4.2686133\n",
      "  (207660, 3013)\t4.9547353\n",
      "  (207660, 1906)\t4.2686133\n",
      "  (207660, 1664)\t4.2686133\n",
      "  (207660, 1543)\t4.2686133\n",
      "  (207660, 905)\t4.2686133\n",
      "  (207660, 886)\t4.2686133\n",
      "  (207660, 741)\t4.2686133\n",
      "  (207660, 513)\t4.2686133\n",
      "  (207660, 338)\t4.2686133\n",
      "  (207660, 108)\t4.2686133\n",
      "  (207660, 33)\t4.2686133\n"
     ]
    }
   ],
   "source": [
    "print(adata.raw.X)"
   ]
  },
  {
   "cell_type": "code",
   "execution_count": 18,
   "id": "45d14b93",
   "metadata": {},
   "outputs": [],
   "source": [
    "#retrieve annotations from .obs element and convert into dict\n",
    "\n",
    "annotation_subtypes_2 = []\n",
    "annotation_subtypes_3 = []\n",
    "\n",
    "for i in adata_annotations:\n",
    "    annotation_subtypes_2.append(i.obs['annotation'])\n",
    "    annotation_subtypes_3.append(i.obs['pheno_annotate'])\n",
    "    \n",
    "annotation_subtype_dicts_1 = []\n",
    "\n",
    "\n",
    "annotation_subtype_dicts_2 = []\n",
    "    \n",
    "for i in annotation_subtypes_2:\n",
    "    annotation_subtype_2_dict = i.to_dict()\n",
    "    annotation_subtype_dicts_2.append(annotation_subtype_2_dict)\n",
    "    \n",
    "    \n",
    "annotation_subtype_dicts_3 = []\n",
    "    \n",
    "for i in annotation_subtypes_3:\n",
    "    annotation_subtype_3_dict = i.to_dict()\n",
    "    annotation_subtype_dicts_3.append(annotation_subtype_3_dict)\n",
    "    \n"
   ]
  },
  {
   "cell_type": "code",
   "execution_count": 19,
   "id": "1a32f714",
   "metadata": {},
   "outputs": [],
   "source": [
    "#concatenate dictionaries order matters! sutype 1\n",
    "    \n",
    "annotation_subtype_dict_2 = {}\n",
    "\n",
    "for i in annotation_subtype_dicts_2:\n",
    "    annotation_subtype_dict_2.update(i)\n",
    "        \n",
    "annotation_subtype_dict_3 = {}\n",
    "\n",
    "for i in annotation_subtype_dicts_3:\n",
    "    annotation_subtype_dict_3.update(i)   \n"
   ]
  },
  {
   "cell_type": "code",
   "execution_count": 20,
   "id": "9134d827",
   "metadata": {},
   "outputs": [],
   "source": [
    "adata.obs['annotation'] = adata.obs_names.map(annotation_subtype_dict_2)\n",
    "adata.obs['pheno_annotate'] = adata.obs_names.map(annotation_subtype_dict_3)"
   ]
  },
  {
   "cell_type": "code",
   "execution_count": 21,
   "id": "56f1f29b",
   "metadata": {},
   "outputs": [
    {
     "data": {
      "text/plain": [
       "{'B',\n",
       " 'B-T_doublet',\n",
       " 'B-memory-DN',\n",
       " 'B-naive',\n",
       " 'B_proliferating',\n",
       " 'CD4-T-naive',\n",
       " 'CD4-TSCM_TFH',\n",
       " 'CD56bright-NK',\n",
       " 'CD56dim-NK',\n",
       " 'CD8-T',\n",
       " 'CD8-TRM',\n",
       " 'CD8-T_KLRG1pos-effector',\n",
       " 'GC-B',\n",
       " 'Mac',\n",
       " 'NK',\n",
       " 'PV-Mac',\n",
       " 'T',\n",
       " 'T_proliferating',\n",
       " 'Treg',\n",
       " 'c-mono',\n",
       " 'cDC1',\n",
       " 'cDC2',\n",
       " 'cDC3',\n",
       " 'gran',\n",
       " 'mast',\n",
       " nan,\n",
       " 'nc-mono',\n",
       " 'p-DC',\n",
       " 'plasma'}"
      ]
     },
     "execution_count": 21,
     "metadata": {},
     "output_type": "execute_result"
    }
   ],
   "source": [
    "set(adata.obs['annotation'])"
   ]
  },
  {
   "cell_type": "code",
   "execution_count": 22,
   "id": "e9a980b4",
   "metadata": {},
   "outputs": [
    {
     "data": {
      "text/plain": [
       "{'BP_0',\n",
       " 'BP_1',\n",
       " 'BP_10',\n",
       " 'BP_2',\n",
       " 'BP_3',\n",
       " 'BP_4',\n",
       " 'BP_5',\n",
       " 'BP_6',\n",
       " 'BP_7',\n",
       " 'BP_8',\n",
       " 'BP_9',\n",
       " 'ILC_0',\n",
       " 'ILC_1',\n",
       " 'ILC_2',\n",
       " 'ILC_3',\n",
       " 'ILC_4',\n",
       " 'M_0',\n",
       " 'M_1',\n",
       " 'M_10',\n",
       " 'M_11',\n",
       " 'M_12',\n",
       " 'M_13',\n",
       " 'M_14',\n",
       " 'M_15',\n",
       " 'M_16',\n",
       " 'M_17',\n",
       " 'M_18',\n",
       " 'M_19',\n",
       " 'M_2',\n",
       " 'M_20',\n",
       " 'M_21',\n",
       " 'M_22',\n",
       " 'M_23',\n",
       " 'M_3',\n",
       " 'M_4',\n",
       " 'M_5',\n",
       " 'M_6',\n",
       " 'M_7',\n",
       " 'M_8',\n",
       " 'M_9',\n",
       " 'TNK_0',\n",
       " 'TNK_1',\n",
       " 'TNK_11',\n",
       " 'TNK_12',\n",
       " 'TNK_13',\n",
       " 'TNK_14',\n",
       " 'TNK_15',\n",
       " 'TNK_16',\n",
       " 'TNK_2',\n",
       " 'TNK_3',\n",
       " 'TNK_4',\n",
       " 'TNK_5',\n",
       " 'TNK_6',\n",
       " 'TNK_7',\n",
       " 'TNK_8',\n",
       " 'TNK_pheno_var_TNK_k10_16',\n",
       " nan}"
      ]
     },
     "execution_count": 22,
     "metadata": {},
     "output_type": "execute_result"
    }
   ],
   "source": [
    "set(adata.obs['pheno_annotate'])"
   ]
  },
  {
   "cell_type": "code",
   "execution_count": 25,
   "id": "276b1b64",
   "metadata": {},
   "outputs": [
    {
     "data": {
      "text/plain": [
       "annotation\n",
       "True     187553\n",
       "False     20108\n",
       "Name: count, dtype: int64"
      ]
     },
     "execution_count": 25,
     "metadata": {},
     "output_type": "execute_result"
    }
   ],
   "source": [
    "adata.obs['annotation'].isna().value_counts()"
   ]
  },
  {
   "cell_type": "code",
   "execution_count": 28,
   "id": "5e234cde",
   "metadata": {},
   "outputs": [
    {
     "data": {
      "text/plain": [
       "TTTCATGCATGACTGT-1-1     Malignant\n",
       "ATGAGTCAGGGTACAC-1-1      Pericyte\n",
       "TCCTTTCAGAGATGCC-1-1     Malignant\n",
       "GCAGCCATCCACTTCG-1-1      Pericyte\n",
       "TACGTCCGTCGCTTAA-1-1     Malignant\n",
       "                           ...    \n",
       "CTGTAGAAGATCGACG-1-45       Ductal\n",
       "GTGGAAGTCAGAGTTC-1-45       Ductal\n",
       "CTAACCCAGCTCGAAG-1-45       Ductal\n",
       "CTCCTTTCACAATGAA-1-45       Ductal\n",
       "TCGTGCTAGCGATGCA-1-45       Ductal\n",
       "Name: Level 3 Annotation, Length: 187553, dtype: category\n",
       "Categories (21, object): ['ADM', 'Acinar', 'Acinar (REG+)', 'Adipocyte', ..., 'Schwann', 'Vascular', 'Vascular smooth muscle', 'myCAF']"
      ]
     },
     "execution_count": 28,
     "metadata": {},
     "output_type": "execute_result"
    }
   ],
   "source": [
    "adata[adata.obs['annotation'].isna()].obs['Level 3 Annotation']"
   ]
  },
  {
   "cell_type": "code",
   "execution_count": 26,
   "id": "18df80e7",
   "metadata": {},
   "outputs": [
    {
     "data": {
      "text/plain": [
       "pheno_annotate\n",
       "True     187553\n",
       "False     20108\n",
       "Name: count, dtype: int64"
      ]
     },
     "execution_count": 26,
     "metadata": {},
     "output_type": "execute_result"
    }
   ],
   "source": [
    "adata.obs['pheno_annotate'].isna().value_counts()"
   ]
  },
  {
   "cell_type": "code",
   "execution_count": 30,
   "id": "a003cfc2",
   "metadata": {},
   "outputs": [
    {
     "data": {
      "text/plain": [
       "{'Adipocyte',\n",
       " 'Cancer-associated fibroblast',\n",
       " 'Endocrine',\n",
       " 'Endothelial',\n",
       " 'Epithelial (malignant)',\n",
       " 'Epithelial (non-malignant)',\n",
       " 'Intra-pancreatic neurons',\n",
       " 'Lymphoid',\n",
       " 'Myeloid',\n",
       " 'Pericyte',\n",
       " 'Schwann',\n",
       " 'Vascular smooth muscle'}"
      ]
     },
     "execution_count": 30,
     "metadata": {},
     "output_type": "execute_result"
    }
   ],
   "source": [
    "set(adata.obs['Level 1 Annotation'])"
   ]
  },
  {
   "cell_type": "markdown",
   "id": "e7a846c4",
   "metadata": {},
   "source": [
    "## add non-immune annotaitons"
   ]
  },
  {
   "cell_type": "code",
   "execution_count": 32,
   "id": "a82d5b38",
   "metadata": {},
   "outputs": [],
   "source": [
    "new_pheno = []\n",
    "new_annotations = []\n",
    "\n",
    "old_pheno = list(adata.obs['pheno_annotate'])\n",
    "old_annotations = list(adata.obs['annotation'])\n",
    "author_annotations = list(adata.obs['Level 3 Annotation'])\n",
    "\n",
    "for i,v in enumerate(list(adata.obs['Level 1 Annotation'])):\n",
    "    if v in ['Lymphoid','Myeloid']:\n",
    "        new_pheno.append(old_pheno[i])\n",
    "        new_annotations.append(old_annotations[i])\n",
    "    else:\n",
    "        new_pheno.append('all_'+author_annotations[i])\n",
    "        new_annotations.append('all_'+author_annotations[i])"
   ]
  },
  {
   "cell_type": "code",
   "execution_count": 33,
   "id": "a2132d37",
   "metadata": {},
   "outputs": [
    {
     "data": {
      "text/plain": [
       "{'BP_0',\n",
       " 'BP_1',\n",
       " 'BP_10',\n",
       " 'BP_2',\n",
       " 'BP_3',\n",
       " 'BP_4',\n",
       " 'BP_5',\n",
       " 'BP_6',\n",
       " 'BP_7',\n",
       " 'BP_8',\n",
       " 'BP_9',\n",
       " 'ILC_0',\n",
       " 'ILC_1',\n",
       " 'ILC_2',\n",
       " 'ILC_3',\n",
       " 'ILC_4',\n",
       " 'M_0',\n",
       " 'M_1',\n",
       " 'M_10',\n",
       " 'M_11',\n",
       " 'M_12',\n",
       " 'M_13',\n",
       " 'M_14',\n",
       " 'M_15',\n",
       " 'M_16',\n",
       " 'M_17',\n",
       " 'M_18',\n",
       " 'M_19',\n",
       " 'M_2',\n",
       " 'M_20',\n",
       " 'M_21',\n",
       " 'M_22',\n",
       " 'M_23',\n",
       " 'M_3',\n",
       " 'M_4',\n",
       " 'M_5',\n",
       " 'M_6',\n",
       " 'M_7',\n",
       " 'M_8',\n",
       " 'M_9',\n",
       " 'TNK_0',\n",
       " 'TNK_1',\n",
       " 'TNK_11',\n",
       " 'TNK_12',\n",
       " 'TNK_13',\n",
       " 'TNK_14',\n",
       " 'TNK_15',\n",
       " 'TNK_16',\n",
       " 'TNK_2',\n",
       " 'TNK_3',\n",
       " 'TNK_4',\n",
       " 'TNK_5',\n",
       " 'TNK_6',\n",
       " 'TNK_7',\n",
       " 'TNK_8',\n",
       " 'TNK_pheno_var_TNK_k10_16',\n",
       " 'all_ADM',\n",
       " 'all_Acinar',\n",
       " 'all_Acinar (REG+)',\n",
       " 'all_Adipocyte',\n",
       " 'all_Alpha',\n",
       " 'all_Beta',\n",
       " 'all_CAF',\n",
       " 'all_Delta',\n",
       " 'all_Ductal',\n",
       " 'all_Ductal (atypical)',\n",
       " 'all_Epsilon',\n",
       " 'all_Gamma',\n",
       " 'all_Hormone-negative neuroendocrine',\n",
       " 'all_Intra-pancreatic neurons',\n",
       " 'all_Lymphatic',\n",
       " 'all_Malignant',\n",
       " 'all_Pericyte',\n",
       " 'all_Schwann',\n",
       " 'all_Vascular',\n",
       " 'all_Vascular smooth muscle',\n",
       " 'all_myCAF'}"
      ]
     },
     "execution_count": 33,
     "metadata": {},
     "output_type": "execute_result"
    }
   ],
   "source": [
    "set(new_pheno)"
   ]
  },
  {
   "cell_type": "code",
   "execution_count": 34,
   "id": "0cfac467",
   "metadata": {},
   "outputs": [
    {
     "data": {
      "text/plain": [
       "{'B',\n",
       " 'B-T_doublet',\n",
       " 'B-memory-DN',\n",
       " 'B-naive',\n",
       " 'B_proliferating',\n",
       " 'CD4-T-naive',\n",
       " 'CD4-TSCM_TFH',\n",
       " 'CD56bright-NK',\n",
       " 'CD56dim-NK',\n",
       " 'CD8-T',\n",
       " 'CD8-TRM',\n",
       " 'CD8-T_KLRG1pos-effector',\n",
       " 'GC-B',\n",
       " 'Mac',\n",
       " 'NK',\n",
       " 'PV-Mac',\n",
       " 'T',\n",
       " 'T_proliferating',\n",
       " 'Treg',\n",
       " 'all_ADM',\n",
       " 'all_Acinar',\n",
       " 'all_Acinar (REG+)',\n",
       " 'all_Adipocyte',\n",
       " 'all_Alpha',\n",
       " 'all_Beta',\n",
       " 'all_CAF',\n",
       " 'all_Delta',\n",
       " 'all_Ductal',\n",
       " 'all_Ductal (atypical)',\n",
       " 'all_Epsilon',\n",
       " 'all_Gamma',\n",
       " 'all_Hormone-negative neuroendocrine',\n",
       " 'all_Intra-pancreatic neurons',\n",
       " 'all_Lymphatic',\n",
       " 'all_Malignant',\n",
       " 'all_Pericyte',\n",
       " 'all_Schwann',\n",
       " 'all_Vascular',\n",
       " 'all_Vascular smooth muscle',\n",
       " 'all_myCAF',\n",
       " 'c-mono',\n",
       " 'cDC1',\n",
       " 'cDC2',\n",
       " 'cDC3',\n",
       " 'gran',\n",
       " 'mast',\n",
       " 'nc-mono',\n",
       " 'p-DC',\n",
       " 'plasma'}"
      ]
     },
     "execution_count": 34,
     "metadata": {},
     "output_type": "execute_result"
    }
   ],
   "source": [
    "set(new_annotations)"
   ]
  },
  {
   "cell_type": "code",
   "execution_count": 35,
   "id": "698cb149",
   "metadata": {},
   "outputs": [],
   "source": [
    "adata.obs['annotation'] = new_annotations"
   ]
  },
  {
   "cell_type": "code",
   "execution_count": 36,
   "id": "cdb0248d",
   "metadata": {},
   "outputs": [],
   "source": [
    "adata.obs['pheno_annotate'] = new_pheno"
   ]
  },
  {
   "cell_type": "code",
   "execution_count": 38,
   "id": "565d666a",
   "metadata": {},
   "outputs": [
    {
     "data": {
      "text/plain": [
       "annotation\n",
       "all_Malignant                          63861\n",
       "all_CAF                                41077\n",
       "all_Ductal                             18911\n",
       "all_Vascular                           14649\n",
       "all_Pericyte                           11474\n",
       "all_myCAF                               9878\n",
       "Mac                                     9452\n",
       "all_Vascular smooth muscle              4667\n",
       "all_Acinar                              4197\n",
       "all_Ductal (atypical)                   3424\n",
       "all_Beta                                2903\n",
       "all_ADM                                 2677\n",
       "all_Alpha                               2234\n",
       "CD4-T-naive                             1770\n",
       "all_Schwann                             1714\n",
       "all_Hormone-negative neuroendocrine     1599\n",
       "all_Lymphatic                           1552\n",
       "all_Gamma                               1451\n",
       "CD8-T_KLRG1pos-effector                 1404\n",
       "CD8-TRM                                 1285\n",
       "T                                       1124\n",
       "CD8-T                                    716\n",
       "B-naive                                  641\n",
       "Treg                                     533\n",
       "all_Adipocyte                            530\n",
       "all_Delta                                509\n",
       "B-T_doublet                              466\n",
       "B                                        415\n",
       "nc-mono                                  290\n",
       "mast                                     263\n",
       "PV-Mac                                   196\n",
       "all_Acinar (REG+)                        179\n",
       "c-mono                                   169\n",
       "NK                                       164\n",
       "cDC1                                     162\n",
       "cDC2                                     147\n",
       "T_proliferating                          122\n",
       "plasma                                   112\n",
       "CD56bright-NK                            104\n",
       "gran                                      98\n",
       "B-memory-DN                               95\n",
       "cDC3                                      92\n",
       "CD56dim-NK                                74\n",
       "p-DC                                      63\n",
       "CD4-TSCM_TFH                              61\n",
       "GC-B                                      56\n",
       "all_Epsilon                               42\n",
       "B_proliferating                           34\n",
       "all_Intra-pancreatic neurons              25\n",
       "Name: count, dtype: int64"
      ]
     },
     "execution_count": 38,
     "metadata": {},
     "output_type": "execute_result"
    }
   ],
   "source": [
    "adata.obs['annotation'].value_counts()"
   ]
  },
  {
   "cell_type": "code",
   "execution_count": 40,
   "id": "5ee0924c",
   "metadata": {},
   "outputs": [
    {
     "data": {
      "text/plain": [
       "pheno_annotate\n",
       "all_Malignant                   63861\n",
       "all_CAF                         41077\n",
       "all_Ductal                      18911\n",
       "all_Vascular                    14649\n",
       "all_Pericyte                    11474\n",
       "                                ...  \n",
       "BP_9                               34\n",
       "BP_10                              31\n",
       "all_Intra-pancreatic neurons       25\n",
       "ILC_3                              25\n",
       "ILC_4                              17\n",
       "Name: count, Length: 77, dtype: int64"
      ]
     },
     "execution_count": 40,
     "metadata": {},
     "output_type": "execute_result"
    }
   ],
   "source": [
    "adata.obs['pheno_annotate'].value_counts()"
   ]
  },
  {
   "cell_type": "code",
   "execution_count": 41,
   "id": "bf176486",
   "metadata": {},
   "outputs": [
    {
     "data": {
      "text/plain": [
       "View of AnnData object with n_obs × n_vars = 0 × 22164\n",
       "    obs: 'sampleid', 'n_genes', 'n_counts', 'scrublet_scores', 'pid', 'n_genes_by_counts', 'log1p_n_genes_by_counts', 'total_counts', 'log1p_total_counts', 'n_counts_sat', 'n_genes_sat', 'percent_mito', 'leiden', 'batch', 'Moffitt_basal', 'Moffitt_classical', 'Bailey_squamous', 'Bailey_progenitor', 'Collison_QM', 'Collison_classical', 'MALIGNANT CELLS', 'ACINAR', 'Alpha', 'Beta', 'Delta', 'Gamma', 'Episilon', 'ENDOCRINE', 'ENDOTHELIAL', 'Pan_Immune', 'AntigenPresentingCells', 'Monocytes_1', 'Monocytes_2', 'Macrophage', 'cDC1', 'cDC2', 'DC_activated', 'pDC', 'Mast', 'Eosinophils', 'Neutrophils', 'M0', 'M1', 'M2', 'Mast_Resting', 'Mast_activated', 'CD8_Tcells', 'CD4_Tcells', 'NK', 'CD8_gammadelta', 'CD8_exhausted', 'CD4_naive', 'CD4_memory_resting', 'CD4_memory_activated', 'CD4_follicular_helper', 'CD4_regulatory', 'NK_resting', 'NK_activated', 'B_cell', 'Plasma', 'Bcell_naive', 'Bcell_memory', 'IMMUNE', 'PanCAF', 'iCAF', 'myCAF', 'apCAF', 'CAF', 'Tuveson_iCAF', 'Tuveson_mCAF', 'Neuzillet_CAFa', 'Neuzillet_CAFb', 'Neuzillet_CAFc', 'Neuzillet_CAFd', 'Davidson_CAF1', 'Davidson_CAF2', 'Davidson_CAF3', 'Pan_Stellate', 'Quiescent_Stellate', 'Activated_Stellate', 'Immune_Stellate', 'FIBROBLASTS', 'PANCREATIC_SCHWANN_CELLS', 'ductal14', 'ductal2', 'ductal3', 'ductal4', 'DUCTAL', 'broad_celltypes', 'treatment_status', 'celltype_infercnv', 'celltypes', 'cnv_leiden', 'cnv_score', 'new_celltypes', 'Level 1 Annotation', 'Level 2 Annotation', 'Level 3 Annotation', 'new_treatment', 'response', 'pretreated', 'pretreatment_CTX', 'SEACell', 'annotation', 'pheno_annotate'\n",
       "    var: 'chromosome', 'start', 'end', 'ensg', 'highly_variable', 'means', 'dispersions', 'dispersions_norm', 'highly_variable_nbatches', 'highly_variable_intersection'\n",
       "    uns: 'Level 1 Annotation_colors', 'Level 2 Annotation_colors', 'broad_celltypes_colors', 'cnv', 'cnv_leiden_colors', 'cnv_neighbors', 'hvg', 'leiden', 'neighbors', 'new_celltypes_colors', 'pca', 'pid_colors', 'tsne', 'umap'\n",
       "    obsm: 'X_cnv', 'X_cnv_pca', 'X_cnv_umap', 'X_harmony', 'X_pca', 'X_tsne', 'X_umap'\n",
       "    varm: 'PCs'\n",
       "    layers: 'counts', 'imputed'\n",
       "    obsp: 'cnv_neighbors_connectivities', 'cnv_neighbors_distances', 'connectivities', 'distances'"
      ]
     },
     "execution_count": 41,
     "metadata": {},
     "output_type": "execute_result"
    }
   ],
   "source": [
    "adata[adata.obs['pheno_annotate'].isna()]"
   ]
  },
  {
   "cell_type": "code",
   "execution_count": 42,
   "id": "77fae9dd",
   "metadata": {},
   "outputs": [
    {
     "name": "stdout",
     "output_type": "stream",
     "text": [
      "mapped annotations: {'gran', 'cDC2', 'all_Acinar (REG+)', 'B_proliferating', 'CD4-T-naive', 'all_Ductal', 'all_Pericyte', 'all_myCAF', 'T', 'all_Beta', 'Mac', 'CD8-TRM', 'plasma', 'all_Schwann', 'B-T_doublet', 'all_Acinar', 'all_Lymphatic', 'NK', 'all_Intra-pancreatic neurons', 'all_CAF', 'all_Alpha', 'all_Malignant', 'all_Hormone-negative neuroendocrine', 'B-naive', 'c-mono', 'CD8-T', 'CD8-T_KLRG1pos-effector', 'all_Gamma', 'all_Epsilon', 'PV-Mac', 'all_Vascular smooth muscle', 'all_Adipocyte', 'Treg', 'cDC1', 'nc-mono', 'CD56bright-NK', 'p-DC', 'B-memory-DN', 'cDC3', 'all_Vascular', 'B', 'GC-B', 'CD4-TSCM_TFH', 'mast', 'CD56dim-NK', 'T_proliferating', 'all_Ductal (atypical)', 'all_Delta', 'all_ADM'}\n"
     ]
    }
   ],
   "source": [
    "print('mapped annotations:', set(adata.obs['annotation']))"
   ]
  },
  {
   "cell_type": "code",
   "execution_count": 43,
   "id": "a743bcc9",
   "metadata": {},
   "outputs": [
    {
     "name": "stdout",
     "output_type": "stream",
     "text": [
      "mapped pheno for annotations: {'M_15', 'ILC_4', 'BP_2', 'all_Beta', 'TNK_14', 'M_21', 'all_Lymphatic', 'TNK_pheno_var_TNK_k10_16', 'TNK_5', 'M_14', 'TNK_16', 'BP_0', 'all_Gamma', 'all_Vascular', 'ILC_1', 'all_ADM', 'M_18', 'TNK_2', 'all_Acinar (REG+)', 'BP_8', 'all_Ductal', 'all_Pericyte', 'TNK_7', 'TNK_15', 'TNK_4', 'TNK_0', 'M_22', 'M_8', 'all_Vascular smooth muscle', 'M_10', 'BP_1', 'M_17', 'TNK_12', 'all_Acinar', 'BP_7', 'M_2', 'M_5', 'ILC_3', 'TNK_11', 'M_13', 'all_myCAF', 'M_6', 'M_4', 'M_0', 'all_Intra-pancreatic neurons', 'all_Alpha', 'M_23', 'BP_3', 'BP_5', 'M_3', 'all_Epsilon', 'BP_9', 'all_Adipocyte', 'BP_6', 'M_1', 'all_Delta', 'M_19', 'ILC_2', 'ILC_0', 'M_12', 'BP_4', 'all_Schwann', 'M_20', 'all_CAF', 'all_Malignant', 'TNK_8', 'all_Hormone-negative neuroendocrine', 'TNK_3', 'M_9', 'M_7', 'M_16', 'TNK_1', 'TNK_13', 'TNK_6', 'M_11', 'all_Ductal (atypical)', 'BP_10'}\n"
     ]
    }
   ],
   "source": [
    "print('mapped pheno for annotations:', set(adata.obs['pheno_annotate']))"
   ]
  },
  {
   "cell_type": "code",
   "execution_count": 44,
   "id": "f89839df",
   "metadata": {},
   "outputs": [
    {
     "data": {
      "text/html": [
       "<div>\n",
       "<style scoped>\n",
       "    .dataframe tbody tr th:only-of-type {\n",
       "        vertical-align: middle;\n",
       "    }\n",
       "\n",
       "    .dataframe tbody tr th {\n",
       "        vertical-align: top;\n",
       "    }\n",
       "\n",
       "    .dataframe thead th {\n",
       "        text-align: right;\n",
       "    }\n",
       "</style>\n",
       "<table border=\"1\" class=\"dataframe\">\n",
       "  <thead>\n",
       "    <tr style=\"text-align: right;\">\n",
       "      <th></th>\n",
       "      <th>cluster</th>\n",
       "      <th>annotation</th>\n",
       "    </tr>\n",
       "  </thead>\n",
       "  <tbody>\n",
       "    <tr>\n",
       "      <th>TTTCATGCATGACTGT-1-1</th>\n",
       "      <td>all_Malignant</td>\n",
       "      <td>all_Malignant</td>\n",
       "    </tr>\n",
       "    <tr>\n",
       "      <th>ATGAGTCAGGGTACAC-1-1</th>\n",
       "      <td>all_Pericyte</td>\n",
       "      <td>all_Pericyte</td>\n",
       "    </tr>\n",
       "    <tr>\n",
       "      <th>TCCTTTCAGAGATGCC-1-1</th>\n",
       "      <td>all_Malignant</td>\n",
       "      <td>all_Malignant</td>\n",
       "    </tr>\n",
       "    <tr>\n",
       "      <th>GCAGCCATCCACTTCG-1-1</th>\n",
       "      <td>all_Pericyte</td>\n",
       "      <td>all_Pericyte</td>\n",
       "    </tr>\n",
       "    <tr>\n",
       "      <th>TACGTCCGTCGCTTAA-1-1</th>\n",
       "      <td>all_Malignant</td>\n",
       "      <td>all_Malignant</td>\n",
       "    </tr>\n",
       "    <tr>\n",
       "      <th>...</th>\n",
       "      <td>...</td>\n",
       "      <td>...</td>\n",
       "    </tr>\n",
       "    <tr>\n",
       "      <th>CTGTAGAAGATCGACG-1-45</th>\n",
       "      <td>all_Ductal</td>\n",
       "      <td>all_Ductal</td>\n",
       "    </tr>\n",
       "    <tr>\n",
       "      <th>GTGGAAGTCAGAGTTC-1-45</th>\n",
       "      <td>all_Ductal</td>\n",
       "      <td>all_Ductal</td>\n",
       "    </tr>\n",
       "    <tr>\n",
       "      <th>CTAACCCAGCTCGAAG-1-45</th>\n",
       "      <td>all_Ductal</td>\n",
       "      <td>all_Ductal</td>\n",
       "    </tr>\n",
       "    <tr>\n",
       "      <th>CTCCTTTCACAATGAA-1-45</th>\n",
       "      <td>all_Ductal</td>\n",
       "      <td>all_Ductal</td>\n",
       "    </tr>\n",
       "    <tr>\n",
       "      <th>TCGTGCTAGCGATGCA-1-45</th>\n",
       "      <td>all_Ductal</td>\n",
       "      <td>all_Ductal</td>\n",
       "    </tr>\n",
       "  </tbody>\n",
       "</table>\n",
       "<p>207661 rows × 2 columns</p>\n",
       "</div>"
      ],
      "text/plain": [
       "                             cluster     annotation\n",
       "TTTCATGCATGACTGT-1-1   all_Malignant  all_Malignant\n",
       "ATGAGTCAGGGTACAC-1-1    all_Pericyte   all_Pericyte\n",
       "TCCTTTCAGAGATGCC-1-1   all_Malignant  all_Malignant\n",
       "GCAGCCATCCACTTCG-1-1    all_Pericyte   all_Pericyte\n",
       "TACGTCCGTCGCTTAA-1-1   all_Malignant  all_Malignant\n",
       "...                              ...            ...\n",
       "CTGTAGAAGATCGACG-1-45     all_Ductal     all_Ductal\n",
       "GTGGAAGTCAGAGTTC-1-45     all_Ductal     all_Ductal\n",
       "CTAACCCAGCTCGAAG-1-45     all_Ductal     all_Ductal\n",
       "CTCCTTTCACAATGAA-1-45     all_Ductal     all_Ductal\n",
       "TCGTGCTAGCGATGCA-1-45     all_Ductal     all_Ductal\n",
       "\n",
       "[207661 rows x 2 columns]"
      ]
     },
     "execution_count": 44,
     "metadata": {},
     "output_type": "execute_result"
    }
   ],
   "source": [
    "annotation_df = adata.obs[['pheno_annotate','annotation']]\n",
    "annotation_df.columns = ['cluster','annotation']\n",
    "annotation_df"
   ]
  },
  {
   "cell_type": "code",
   "execution_count": 45,
   "id": "5801f9c6",
   "metadata": {},
   "outputs": [
    {
     "data": {
      "text/plain": [
       "'/data/peer/wallet/Jupyter/2023_Particle_SASP/data/TIL-X-PAAD-X-snRNAseq-X-2022-X-Hwang-X-10.1038_s41588-022-01134-8-X-all_cells_Milo_annotated.h5ad'"
      ]
     },
     "execution_count": 45,
     "metadata": {},
     "output_type": "execute_result"
    }
   ],
   "source": [
    "adata_save_path"
   ]
  },
  {
   "cell_type": "code",
   "execution_count": 46,
   "id": "5e6aa84c",
   "metadata": {},
   "outputs": [
    {
     "name": "stdout",
     "output_type": "stream",
     "text": [
      "saved to: /data/peer/wallet/Jupyter/2023_Particle_SASP/data/TIL-X-PAAD-X-snRNAseq-X-2022-X-Hwang-X-10.1038_s41588-022-01134-8-X-all_cells_Milo_annotated.h5ad\n"
     ]
    }
   ],
   "source": [
    "adata.write(adata_save_path)\n",
    "print('saved to:',adata_save_path)"
   ]
  },
  {
   "cell_type": "code",
   "execution_count": 51,
   "id": "41fdd5aa",
   "metadata": {},
   "outputs": [
    {
     "data": {
      "text/plain": [
       "'/data/peer/wallet/Jupyter/2023_Particle_SASP/data/TIL-X-PAAD-X-snRNAseq-X-2022-X-Hwang-X-10.1038_s41588-022-01134-8-X-annotations.csv'"
      ]
     },
     "execution_count": 51,
     "metadata": {},
     "output_type": "execute_result"
    }
   ],
   "source": [
    "csv_save_path"
   ]
  },
  {
   "cell_type": "code",
   "execution_count": 52,
   "id": "3799727b",
   "metadata": {},
   "outputs": [
    {
     "name": "stdout",
     "output_type": "stream",
     "text": [
      "saved to: /data/peer/wallet/Jupyter/2023_Particle_SASP/data/TIL-X-PAAD-X-snRNAseq-X-2022-X-Hwang-X-10.1038_s41588-022-01134-8-X-annotations.csv\n"
     ]
    }
   ],
   "source": [
    "annotation_df.to_csv(csv_save_path)\n",
    "print('saved to:',csv_save_path)"
   ]
  },
  {
   "cell_type": "code",
   "execution_count": null,
   "id": "fbc8ef5f",
   "metadata": {},
   "outputs": [],
   "source": []
  }
 ],
 "metadata": {
  "kernelspec": {
   "display_name": "Python 3 (ipykernel)",
   "language": "python",
   "name": "python3"
  },
  "language_info": {
   "codemirror_mode": {
    "name": "ipython",
    "version": 3
   },
   "file_extension": ".py",
   "mimetype": "text/x-python",
   "name": "python",
   "nbconvert_exporter": "python",
   "pygments_lexer": "ipython3",
   "version": "3.10.4"
  }
 },
 "nbformat": 4,
 "nbformat_minor": 5
}
